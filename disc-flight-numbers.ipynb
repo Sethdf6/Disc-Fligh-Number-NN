{
 "cells": [
  {
   "cell_type": "code",
   "execution_count": 1,
   "id": "b68b999d",
   "metadata": {
    "_cell_guid": "b1076dfc-b9ad-4769-8c92-a6c4dae69d19",
    "_uuid": "8f2839f25d086af736a60e9eeb907d3b93b6e0e5",
    "execution": {
     "iopub.execute_input": "2025-02-11T17:32:54.566900Z",
     "iopub.status.busy": "2025-02-11T17:32:54.566557Z",
     "iopub.status.idle": "2025-02-11T17:33:15.095139Z",
     "shell.execute_reply": "2025-02-11T17:33:15.093978Z"
    },
    "papermill": {
     "duration": 20.53571,
     "end_time": "2025-02-11T17:33:15.097900",
     "exception": false,
     "start_time": "2025-02-11T17:32:54.562190",
     "status": "completed"
    },
    "tags": []
   },
   "outputs": [
    {
     "name": "stderr",
     "output_type": "stream",
     "text": [
      "2025-02-11 17:33:02.179536: E external/local_xla/xla/stream_executor/cuda/cuda_dnn.cc:9261] Unable to register cuDNN factory: Attempting to register factory for plugin cuDNN when one has already been registered\n",
      "2025-02-11 17:33:02.179807: E external/local_xla/xla/stream_executor/cuda/cuda_fft.cc:607] Unable to register cuFFT factory: Attempting to register factory for plugin cuFFT when one has already been registered\n",
      "2025-02-11 17:33:02.442545: E external/local_xla/xla/stream_executor/cuda/cuda_blas.cc:1515] Unable to register cuBLAS factory: Attempting to register factory for plugin cuBLAS when one has already been registered\n"
     ]
    }
   ],
   "source": [
    "import matplotlib.pyplot as plt\n",
    "import numpy as np\n",
    "import pandas as pd\n",
    "import seaborn as sns\n",
    "import tensorflow as tf\n",
    "from tensorflow.keras.models import Sequential\n",
    "from tensorflow.keras.layers import Dense\n",
    "from tensorflow.keras.layers import Dropout\n",
    "from keras.models import load_model"
   ]
  },
  {
   "cell_type": "code",
   "execution_count": 2,
   "id": "1888d34a",
   "metadata": {
    "execution": {
     "iopub.execute_input": "2025-02-11T17:33:15.106913Z",
     "iopub.status.busy": "2025-02-11T17:33:15.106201Z",
     "iopub.status.idle": "2025-02-11T17:33:15.164359Z",
     "shell.execute_reply": "2025-02-11T17:33:15.163643Z"
    },
    "papermill": {
     "duration": 0.065223,
     "end_time": "2025-02-11T17:33:15.166485",
     "exception": false,
     "start_time": "2025-02-11T17:33:15.101262",
     "status": "completed"
    },
    "tags": []
   },
   "outputs": [
    {
     "name": "stdout",
     "output_type": "stream",
     "text": [
      "             SPEED        GLIDE         TURN         FADE    STABILITY  \\\n",
      "count  1175.000000  1175.000000  1175.000000  1175.000000  1175.000000   \n",
      "mean      6.985532     4.291064    -0.839574     2.014894     1.173617   \n",
      "std       3.676466     1.110181     1.122030     1.133728     1.890662   \n",
      "min       1.000000     0.000000    -5.000000     0.000000    -4.000000   \n",
      "25%       4.000000     4.000000    -1.000000     1.000000     0.000000   \n",
      "50%       7.000000     4.500000    -0.500000     2.000000     1.000000   \n",
      "75%      10.000000     5.000000     0.000000     3.000000     2.500000   \n",
      "max      14.500000     7.000000     2.000000     6.000000     7.000000   \n",
      "\n",
      "       DIAMETER (cm)  HEIGHT (cm)  RIM DEPTH (cm)  RIM WIDTH (cm)  \\\n",
      "count    1175.000000  1175.000000     1175.000000     1175.000000   \n",
      "mean       21.297191     1.811830        1.259574        1.647574   \n",
      "std         0.330815     0.229446        0.152016        0.480834   \n",
      "min        21.000000     1.300000        1.100000        0.600000   \n",
      "25%        21.100000     1.700000        1.100000        1.200000   \n",
      "50%        21.200000     1.800000        1.200000        1.700000   \n",
      "75%        21.400000     2.000000        1.400000        2.000000   \n",
      "max        24.200000     2.900000        2.300000        2.600000   \n",
      "\n",
      "       INSIDE RIM DIAMETER (cm)  RIM DEPTH / DIAMETER RATION (%)  \\\n",
      "count                1175.00000                      1175.000000   \n",
      "mean                   17.99166                         5.915830   \n",
      "std                     1.10516                         0.701401   \n",
      "min                    15.90000                         5.000000   \n",
      "25%                    17.10000                         5.200000   \n",
      "50%                    17.80000                         5.700000   \n",
      "75%                    19.00000                         6.400000   \n",
      "max                    22.80000                         9.700000   \n",
      "\n",
      "       RIM CONFIGURATION  \n",
      "count        1175.000000  \n",
      "mean           40.627328  \n",
      "std            14.468409  \n",
      "min            26.000000  \n",
      "25%            29.000000  \n",
      "50%            34.000000  \n",
      "75%            49.750000  \n",
      "max            98.250000  \n"
     ]
    }
   ],
   "source": [
    "csv = '/kaggle/input/disc-golf-disc-flight-numbers-and-dimensions/disc-data.csv'\n",
    "df = pd.read_csv(csv)\n",
    "df['MOLD'] = df['MOLD'].str.replace('\\n', '')\n",
    "print(df.describe())"
   ]
  },
  {
   "cell_type": "code",
   "execution_count": 3,
   "id": "757a3f3a",
   "metadata": {
    "execution": {
     "iopub.execute_input": "2025-02-11T17:33:15.173327Z",
     "iopub.status.busy": "2025-02-11T17:33:15.173057Z",
     "iopub.status.idle": "2025-02-11T17:33:15.215338Z",
     "shell.execute_reply": "2025-02-11T17:33:15.214049Z"
    },
    "papermill": {
     "duration": 0.047473,
     "end_time": "2025-02-11T17:33:15.216963",
     "exception": false,
     "start_time": "2025-02-11T17:33:15.169490",
     "status": "completed"
    },
    "tags": []
   },
   "outputs": [
    {
     "name": "stdout",
     "output_type": "stream",
     "text": [
      "(1175, 15)\n",
      "(1175, 11)\n",
      "(1175, 4)\n",
      "            MOLD        DISC TYPE  STABILITY  DIAMETER (cm)  HEIGHT (cm)  \\\n",
      "0      Armadillo  Putt & Approach        1.0           21.3          1.9   \n",
      "1         Beetle  Putt & Approach       -1.0           21.9          2.2   \n",
      "2           Berg  Putt & Approach        2.0           21.1          2.0   \n",
      "3         Birdie  Putt & Approach        0.0           21.2          2.4   \n",
      "4          Claws  Putt & Approach        0.5           21.2          2.0   \n",
      "...          ...              ...        ...            ...          ...   \n",
      "1170    Delirium  Distance Driver        2.5           21.1          1.8   \n",
      "1171   Dimension  Distance Driver        3.0           21.0          1.8   \n",
      "1172      Excite  Distance Driver        0.0           21.1          2.1   \n",
      "1173       Limit  Distance Driver        4.0           21.1          1.8   \n",
      "1174  Relativity  Distance Driver       -1.5           21.1          1.9   \n",
      "\n",
      "      RIM DEPTH (cm)  RIM WIDTH (cm)  INSIDE RIM DIAMETER (cm)  \\\n",
      "0                1.4             0.8                      19.6   \n",
      "1                1.6             0.8                      20.3   \n",
      "2                1.4             0.9                      19.3   \n",
      "3                1.9             0.7                      19.8   \n",
      "4                1.7             0.9                      19.4   \n",
      "...              ...             ...                       ...   \n",
      "1170             1.2             2.5                      16.0   \n",
      "1171             1.2             2.5                      16.0   \n",
      "1172             1.2             2.5                      15.9   \n",
      "1173             1.2             2.5                      16.0   \n",
      "1174             1.2             2.5                      16.0   \n",
      "\n",
      "      RIM DEPTH / DIAMETER RATION (%)  RIM CONFIGURATION  BEAD  \n",
      "0                                 6.6              90.75     0  \n",
      "1                                 7.3              89.25     0  \n",
      "2                                 6.6              87.00     0  \n",
      "3                                 9.0              98.25     0  \n",
      "4                                 8.0              85.00     0  \n",
      "...                               ...                ...   ...  \n",
      "1170                              5.7              27.00     0  \n",
      "1171                              5.7              27.75     0  \n",
      "1172                              5.7              27.00     0  \n",
      "1173                              5.7              27.25     0  \n",
      "1174                              5.7              27.25     0  \n",
      "\n",
      "[1175 rows x 11 columns]\n"
     ]
    },
    {
     "name": "stderr",
     "output_type": "stream",
     "text": [
      "/tmp/ipykernel_18/3062733839.py:3: FutureWarning: Downcasting behavior in `replace` is deprecated and will be removed in a future version. To retain the old behavior, explicitly call `result.infer_objects(copy=False)`. To opt-in to the future behavior, set `pd.set_option('future.no_silent_downcasting', True)`\n",
      "  df[['BEAD']] = df[['BEAD']].replace('Yes',1)\n"
     ]
    }
   ],
   "source": [
    "print(df.shape)\n",
    "df[['BEAD']] = df[['BEAD']].replace('No',0)\n",
    "df[['BEAD']] = df[['BEAD']].replace('Yes',1)\n",
    "Y = df[[\"SPEED\", \"GLIDE\", \"TURN\", \"FADE\"]]\n",
    "X = df.loc[:,~df.columns.isin([\"SPEED\", \"GLIDE\", \"TURN\", \"FADE\"])]\n",
    "print(X.shape)\n",
    "print(Y.shape)\n",
    "print(X)"
   ]
  },
  {
   "cell_type": "code",
   "execution_count": 4,
   "id": "ef181582",
   "metadata": {
    "execution": {
     "iopub.execute_input": "2025-02-11T17:33:15.223865Z",
     "iopub.status.busy": "2025-02-11T17:33:15.223531Z",
     "iopub.status.idle": "2025-02-11T17:33:15.237728Z",
     "shell.execute_reply": "2025-02-11T17:33:15.236954Z"
    },
    "papermill": {
     "duration": 0.01953,
     "end_time": "2025-02-11T17:33:15.239439",
     "exception": false,
     "start_time": "2025-02-11T17:33:15.219909",
     "status": "completed"
    },
    "tags": []
   },
   "outputs": [
    {
     "name": "stdout",
     "output_type": "stream",
     "text": [
      "Shape of X_train: (940, 11)\n",
      "Shape of Y_train: (940, 4)\n",
      "Shape of X_validation: (117, 11)\n",
      "Shape of Y_validation: (117, 4)\n",
      "Shape of X_test: (118, 11)\n",
      "Shape of Y_test: (118, 4)\n"
     ]
    }
   ],
   "source": [
    "# Calculate the number of rows for each split\n",
    "total_rows = df.shape[0]\n",
    "train_rows = int(0.8 * total_rows)\n",
    "validation_rows = int(0.1 * total_rows)\n",
    "test_rows = total_rows - train_rows - validation_rows\n",
    "\n",
    "# Generate random indices for splitting\n",
    "indices = np.arange(total_rows)\n",
    "np.random.shuffle(indices)\n",
    "\n",
    "# Split the indices\n",
    "train_indices = indices[:train_rows]\n",
    "validation_indices = indices[train_rows:train_rows + validation_rows]\n",
    "test_indices = indices[train_rows + validation_rows:]\n",
    "\n",
    "# Create new arrays based on the indices\n",
    "X_train = X.loc[train_indices, :]\n",
    "Y_train = Y.loc[train_indices, :]\n",
    "X_validation = X.loc[validation_indices, :]\n",
    "Y_validation = Y.loc[validation_indices, :]\n",
    "X_test = X.loc[test_indices, :]\n",
    "Y_test = Y.loc[test_indices]\n",
    "\n",
    "# Verify the shapes of the new arrays\n",
    "print(\"Shape of X_train:\", X_train.shape)\n",
    "print(\"Shape of Y_train:\", Y_train.shape)\n",
    "print(\"Shape of X_validation:\", X_validation.shape)\n",
    "print(\"Shape of Y_validation:\", Y_validation.shape)\n",
    "print(\"Shape of X_test:\", X_test.shape)\n",
    "print(\"Shape of Y_test:\", Y_test.shape)\n",
    "\n",
    "X_train = X_train.loc[:,~X_train.columns.isin([\"MOLD\", \"DISC TYPE\"])]\n",
    "X_validation = X_validation.loc[:,~X_validation.columns.isin([\"MOLD\", \"DISC TYPE\"])]\n",
    "X_test = X_test.loc[:,~X_test.columns.isin([\"MOLD\", \"DISC TYPE\"])]\n",
    "\n",
    "X_train = np.array(X_train)\n",
    "Y_train = np.array(Y_train)\n",
    "X_validation = np.array(X_validation)\n",
    "Y_validation = np.array(Y_validation)\n",
    "X_test = np.array(X_test)\n",
    "Y_test = np.array(Y_test)"
   ]
  },
  {
   "cell_type": "code",
   "execution_count": 5,
   "id": "4868520e",
   "metadata": {
    "execution": {
     "iopub.execute_input": "2025-02-11T17:33:15.246758Z",
     "iopub.status.busy": "2025-02-11T17:33:15.246396Z",
     "iopub.status.idle": "2025-02-11T17:33:15.353204Z",
     "shell.execute_reply": "2025-02-11T17:33:15.351925Z"
    },
    "papermill": {
     "duration": 0.113096,
     "end_time": "2025-02-11T17:33:15.355483",
     "exception": false,
     "start_time": "2025-02-11T17:33:15.242387",
     "status": "completed"
    },
    "tags": []
   },
   "outputs": [
    {
     "name": "stdout",
     "output_type": "stream",
     "text": [
      "Diameter Max, Min pre normalization: 24.20, 21.00\n",
      "Inside Rim Diameter Max, Min pre normalization: 22.80, 15.90\n",
      "Rim Depth/Diameter Ratio Max, Min pre normalization: 9.70, 5.00\n",
      "Rim Configuration Max, Min pre normalization: 98.25, 26.00\n",
      "Diameter Max, Min post normalization: 9.04, -0.91\n",
      "Inside Rim Diameter Max, Min post normalization: 4.36, -1.90\n",
      "Rim Depth/Diameter Ratio Max, Min post normalization: 5.30, -1.30\n",
      "Rim Configuration Max, Min post normalization: 3.95, -1.01\n"
     ]
    }
   ],
   "source": [
    "X_train = np.array(X_train)\n",
    "X_validation = np.array(X_validation)\n",
    "X_test = np.array(X_test)\n",
    "\n",
    "print(f\"Diameter Max, Min pre normalization: {np.max(X_train[0:,1]):0.2f}, {np.min(X_train[:,1]):0.2f}\")\n",
    "print(f\"Inside Rim Diameter Max, Min pre normalization: {np.max(X_train[:,5]):0.2f}, {np.min(X_train[:,5]):0.2f}\")\n",
    "print(f\"Rim Depth/Diameter Ratio Max, Min pre normalization: {np.max(X_train[:,6]):0.2f}, {np.min(X_train[:,6]):0.2f}\")\n",
    "print(f\"Rim Configuration Max, Min pre normalization: {np.max(X_train[:,7]):0.2f}, {np.min(X_train[:,7]):0.2f}\")\n",
    "\n",
    "norm_l = tf.keras.layers.Normalization(axis=-1)\n",
    "norm_2 = tf.keras.layers.Normalization(axis=-1)\n",
    "norm_3 = tf.keras.layers.Normalization(axis=-1)\n",
    "norm_l.adapt(X_train)  # learns mean, variance\n",
    "norm_2.adapt(X_validation)\n",
    "norm_3.adapt(X_test)\n",
    "X_train_n = norm_l(X_train)\n",
    "X_validation_n = norm_2(X_validation)\n",
    "X_test_n = norm_3(X_test)\n",
    "\n",
    "print(f\"Diameter Max, Min post normalization: {np.max(X_train_n[0:,1]):0.2f}, {np.min(X_train_n[:,1]):0.2f}\")\n",
    "print(f\"Inside Rim Diameter Max, Min post normalization: {np.max(X_train_n[:,5]):0.2f}, {np.min(X_train_n[:,5]):0.2f}\")\n",
    "print(f\"Rim Depth/Diameter Ratio Max, Min post normalization: {np.max(X_train_n[:,6]):0.2f}, {np.min(X_train_n[:,6]):0.2f}\")\n",
    "print(f\"Rim Configuration Max, Min post normalization: {np.max(X_train_n[:,7]):0.2f}, {np.min(X_train_n[:,7]):0.2f}\")\n"
   ]
  },
  {
   "cell_type": "code",
   "execution_count": 6,
   "id": "01596b08",
   "metadata": {
    "execution": {
     "iopub.execute_input": "2025-02-11T17:33:15.363341Z",
     "iopub.status.busy": "2025-02-11T17:33:15.362970Z",
     "iopub.status.idle": "2025-02-11T17:33:15.382969Z",
     "shell.execute_reply": "2025-02-11T17:33:15.381929Z"
    },
    "papermill": {
     "duration": 0.026348,
     "end_time": "2025-02-11T17:33:15.385020",
     "exception": false,
     "start_time": "2025-02-11T17:33:15.358672",
     "status": "completed"
    },
    "tags": []
   },
   "outputs": [],
   "source": [
    "tf.random.set_seed(1234)  # applied to achieve consistent results\n",
    "model = Sequential(\n",
    "    [\n",
    "        Dense(10, activation='relu', name = 'layer1'),\n",
    "        Dropout(0.2),\n",
    "        Dense(9, activation='relu', name = 'layer2'),\n",
    "        Dropout(0.4),\n",
    "        Dense(4, activation='relu', name = 'layer3')\n",
    "\n",
    "     ]\n",
    ")"
   ]
  },
  {
   "cell_type": "code",
   "execution_count": 7,
   "id": "432d38cf",
   "metadata": {
    "execution": {
     "iopub.execute_input": "2025-02-11T17:33:15.392115Z",
     "iopub.status.busy": "2025-02-11T17:33:15.391766Z",
     "iopub.status.idle": "2025-02-11T17:33:32.955248Z",
     "shell.execute_reply": "2025-02-11T17:33:32.953868Z"
    },
    "papermill": {
     "duration": 17.569075,
     "end_time": "2025-02-11T17:33:32.957067",
     "exception": false,
     "start_time": "2025-02-11T17:33:15.387992",
     "status": "completed"
    },
    "tags": []
   },
   "outputs": [
    {
     "name": "stdout",
     "output_type": "stream",
     "text": [
      "Epoch 1/200\n",
      "30/30 - 1s - 40ms/step - accuracy: 0.2117 - loss: 21.5761 - val_accuracy: 0.1795 - val_loss: 21.2698\n",
      "Epoch 2/200\n",
      "30/30 - 0s - 3ms/step - accuracy: 0.1957 - loss: 21.4606 - val_accuracy: 0.1709 - val_loss: 21.0356\n",
      "Epoch 3/200\n",
      "30/30 - 0s - 3ms/step - accuracy: 0.2085 - loss: 21.1960 - val_accuracy: 0.1795 - val_loss: 20.7548\n",
      "Epoch 4/200\n",
      "30/30 - 0s - 2ms/step - accuracy: 0.2330 - loss: 20.8325 - val_accuracy: 0.1880 - val_loss: 20.4216\n",
      "Epoch 5/200\n",
      "30/30 - 0s - 3ms/step - accuracy: 0.2138 - loss: 20.6351 - val_accuracy: 0.1966 - val_loss: 20.0575\n",
      "Epoch 6/200\n",
      "30/30 - 0s - 3ms/step - accuracy: 0.2096 - loss: 20.2217 - val_accuracy: 0.1966 - val_loss: 19.6512\n",
      "Epoch 7/200\n",
      "30/30 - 0s - 3ms/step - accuracy: 0.2287 - loss: 19.8837 - val_accuracy: 0.2137 - val_loss: 19.1548\n",
      "Epoch 8/200\n",
      "30/30 - 0s - 3ms/step - accuracy: 0.2340 - loss: 19.4662 - val_accuracy: 0.2051 - val_loss: 18.5318\n",
      "Epoch 9/200\n",
      "30/30 - 0s - 3ms/step - accuracy: 0.2309 - loss: 18.8728 - val_accuracy: 0.2051 - val_loss: 17.6480\n",
      "Epoch 10/200\n",
      "30/30 - 0s - 3ms/step - accuracy: 0.2309 - loss: 17.9815 - val_accuracy: 0.2051 - val_loss: 16.3238\n",
      "Epoch 11/200\n",
      "30/30 - 0s - 3ms/step - accuracy: 0.2809 - loss: 16.3192 - val_accuracy: 0.2051 - val_loss: 14.0856\n",
      "Epoch 12/200\n",
      "30/30 - 0s - 3ms/step - accuracy: 0.3766 - loss: 14.5839 - val_accuracy: 0.1880 - val_loss: 11.7464\n",
      "Epoch 13/200\n",
      "30/30 - 0s - 3ms/step - accuracy: 0.3819 - loss: 12.6949 - val_accuracy: 0.2479 - val_loss: 9.4745\n",
      "Epoch 14/200\n",
      "30/30 - 0s - 3ms/step - accuracy: 0.3947 - loss: 11.0306 - val_accuracy: 0.3077 - val_loss: 7.7284\n",
      "Epoch 15/200\n",
      "30/30 - 0s - 3ms/step - accuracy: 0.4340 - loss: 10.3337 - val_accuracy: 0.7607 - val_loss: 6.3609\n",
      "Epoch 16/200\n",
      "30/30 - 0s - 3ms/step - accuracy: 0.5979 - loss: 9.3311 - val_accuracy: 0.8462 - val_loss: 5.4110\n",
      "Epoch 17/200\n",
      "30/30 - 0s - 3ms/step - accuracy: 0.6596 - loss: 8.9579 - val_accuracy: 0.8462 - val_loss: 4.8563\n",
      "Epoch 18/200\n",
      "30/30 - 0s - 3ms/step - accuracy: 0.7170 - loss: 8.7313 - val_accuracy: 0.8462 - val_loss: 4.3564\n",
      "Epoch 19/200\n",
      "30/30 - 0s - 2ms/step - accuracy: 0.7840 - loss: 8.3797 - val_accuracy: 0.8462 - val_loss: 4.0615\n",
      "Epoch 20/200\n",
      "30/30 - 0s - 3ms/step - accuracy: 0.7904 - loss: 7.5019 - val_accuracy: 0.8462 - val_loss: 3.7907\n",
      "Epoch 21/200\n",
      "30/30 - 0s - 3ms/step - accuracy: 0.7926 - loss: 7.5720 - val_accuracy: 0.8462 - val_loss: 3.5768\n",
      "Epoch 22/200\n",
      "30/30 - 0s - 3ms/step - accuracy: 0.7936 - loss: 7.4132 - val_accuracy: 0.8462 - val_loss: 3.6412\n",
      "Epoch 23/200\n",
      "30/30 - 0s - 3ms/step - accuracy: 0.7894 - loss: 7.1548 - val_accuracy: 0.8462 - val_loss: 3.4398\n",
      "Epoch 24/200\n",
      "30/30 - 0s - 3ms/step - accuracy: 0.7968 - loss: 7.4424 - val_accuracy: 0.8462 - val_loss: 3.3657\n",
      "Epoch 25/200\n",
      "30/30 - 0s - 3ms/step - accuracy: 0.7926 - loss: 7.1389 - val_accuracy: 0.8462 - val_loss: 3.2980\n",
      "Epoch 26/200\n",
      "30/30 - 0s - 3ms/step - accuracy: 0.8000 - loss: 6.8964 - val_accuracy: 0.8462 - val_loss: 3.2217\n",
      "Epoch 27/200\n",
      "30/30 - 0s - 3ms/step - accuracy: 0.7957 - loss: 6.8959 - val_accuracy: 0.8462 - val_loss: 3.2463\n",
      "Epoch 28/200\n",
      "30/30 - 0s - 3ms/step - accuracy: 0.8000 - loss: 6.6159 - val_accuracy: 0.8462 - val_loss: 3.1729\n",
      "Epoch 29/200\n",
      "30/30 - 0s - 3ms/step - accuracy: 0.8000 - loss: 7.2014 - val_accuracy: 0.8462 - val_loss: 3.1948\n",
      "Epoch 30/200\n",
      "30/30 - 0s - 3ms/step - accuracy: 0.8000 - loss: 6.4266 - val_accuracy: 0.8462 - val_loss: 3.0718\n",
      "Epoch 31/200\n",
      "30/30 - 0s - 3ms/step - accuracy: 0.7979 - loss: 6.3938 - val_accuracy: 0.8462 - val_loss: 3.0262\n",
      "Epoch 32/200\n",
      "30/30 - 0s - 3ms/step - accuracy: 0.8000 - loss: 6.5185 - val_accuracy: 0.8462 - val_loss: 3.0902\n",
      "Epoch 33/200\n",
      "30/30 - 0s - 2ms/step - accuracy: 0.7979 - loss: 6.2364 - val_accuracy: 0.8462 - val_loss: 3.0286\n",
      "Epoch 34/200\n",
      "30/30 - 0s - 3ms/step - accuracy: 0.8000 - loss: 6.4918 - val_accuracy: 0.8462 - val_loss: 2.9960\n",
      "Epoch 35/200\n",
      "30/30 - 0s - 2ms/step - accuracy: 0.8011 - loss: 6.4356 - val_accuracy: 0.8462 - val_loss: 3.0007\n",
      "Epoch 36/200\n",
      "30/30 - 0s - 2ms/step - accuracy: 0.8032 - loss: 6.5519 - val_accuracy: 0.8462 - val_loss: 2.9609\n",
      "Epoch 37/200\n",
      "30/30 - 0s - 2ms/step - accuracy: 0.7989 - loss: 6.6324 - val_accuracy: 0.8462 - val_loss: 2.9621\n",
      "Epoch 38/200\n",
      "30/30 - 0s - 3ms/step - accuracy: 0.8032 - loss: 5.9275 - val_accuracy: 0.8462 - val_loss: 2.8801\n",
      "Epoch 39/200\n",
      "30/30 - 0s - 3ms/step - accuracy: 0.8043 - loss: 5.9068 - val_accuracy: 0.8462 - val_loss: 2.8763\n",
      "Epoch 40/200\n",
      "30/30 - 0s - 3ms/step - accuracy: 0.8021 - loss: 6.4151 - val_accuracy: 0.8462 - val_loss: 2.8486\n",
      "Epoch 41/200\n",
      "30/30 - 0s - 2ms/step - accuracy: 0.8000 - loss: 5.9404 - val_accuracy: 0.8462 - val_loss: 2.8163\n",
      "Epoch 42/200\n",
      "30/30 - 0s - 3ms/step - accuracy: 0.8064 - loss: 5.9430 - val_accuracy: 0.8462 - val_loss: 2.8149\n",
      "Epoch 43/200\n",
      "30/30 - 0s - 2ms/step - accuracy: 0.8021 - loss: 6.3075 - val_accuracy: 0.8462 - val_loss: 2.8198\n",
      "Epoch 44/200\n",
      "30/30 - 0s - 3ms/step - accuracy: 0.7989 - loss: 6.4315 - val_accuracy: 0.8462 - val_loss: 2.8005\n",
      "Epoch 45/200\n",
      "30/30 - 0s - 3ms/step - accuracy: 0.8032 - loss: 5.9081 - val_accuracy: 0.8462 - val_loss: 2.8214\n",
      "Epoch 46/200\n",
      "30/30 - 0s - 3ms/step - accuracy: 0.8011 - loss: 6.4173 - val_accuracy: 0.8462 - val_loss: 2.8241\n",
      "Epoch 47/200\n",
      "30/30 - 0s - 2ms/step - accuracy: 0.8032 - loss: 5.9754 - val_accuracy: 0.8462 - val_loss: 2.7905\n",
      "Epoch 48/200\n",
      "30/30 - 0s - 2ms/step - accuracy: 0.7979 - loss: 6.1718 - val_accuracy: 0.8462 - val_loss: 2.7736\n",
      "Epoch 49/200\n",
      "30/30 - 0s - 2ms/step - accuracy: 0.8043 - loss: 5.8248 - val_accuracy: 0.8462 - val_loss: 2.7325\n",
      "Epoch 50/200\n",
      "30/30 - 0s - 2ms/step - accuracy: 0.8000 - loss: 6.1183 - val_accuracy: 0.8462 - val_loss: 2.7259\n",
      "Epoch 51/200\n",
      "30/30 - 0s - 3ms/step - accuracy: 0.8043 - loss: 5.8040 - val_accuracy: 0.8462 - val_loss: 2.7539\n",
      "Epoch 52/200\n",
      "30/30 - 0s - 3ms/step - accuracy: 0.8043 - loss: 5.9202 - val_accuracy: 0.8462 - val_loss: 2.6587\n",
      "Epoch 53/200\n",
      "30/30 - 0s - 3ms/step - accuracy: 0.8021 - loss: 5.6401 - val_accuracy: 0.8462 - val_loss: 2.6495\n",
      "Epoch 54/200\n",
      "30/30 - 0s - 3ms/step - accuracy: 0.8000 - loss: 6.1512 - val_accuracy: 0.8462 - val_loss: 2.6321\n",
      "Epoch 55/200\n",
      "30/30 - 0s - 3ms/step - accuracy: 0.8021 - loss: 5.5578 - val_accuracy: 0.8462 - val_loss: 2.6238\n",
      "Epoch 56/200\n",
      "30/30 - 0s - 3ms/step - accuracy: 0.8043 - loss: 5.7561 - val_accuracy: 0.8462 - val_loss: 2.6185\n",
      "Epoch 57/200\n",
      "30/30 - 0s - 3ms/step - accuracy: 0.8000 - loss: 6.0449 - val_accuracy: 0.8462 - val_loss: 2.5604\n",
      "Epoch 58/200\n",
      "30/30 - 0s - 3ms/step - accuracy: 0.8043 - loss: 5.8817 - val_accuracy: 0.8462 - val_loss: 2.5587\n",
      "Epoch 59/200\n",
      "30/30 - 0s - 3ms/step - accuracy: 0.8000 - loss: 5.8287 - val_accuracy: 0.8462 - val_loss: 2.5429\n",
      "Epoch 60/200\n",
      "30/30 - 0s - 2ms/step - accuracy: 0.7968 - loss: 5.7556 - val_accuracy: 0.8462 - val_loss: 2.5106\n",
      "Epoch 61/200\n",
      "30/30 - 0s - 2ms/step - accuracy: 0.8011 - loss: 5.9181 - val_accuracy: 0.8462 - val_loss: 2.5207\n",
      "Epoch 62/200\n",
      "30/30 - 0s - 2ms/step - accuracy: 0.8021 - loss: 5.4935 - val_accuracy: 0.8462 - val_loss: 2.5027\n",
      "Epoch 63/200\n",
      "30/30 - 0s - 3ms/step - accuracy: 0.8032 - loss: 5.9198 - val_accuracy: 0.8462 - val_loss: 2.5325\n",
      "Epoch 64/200\n",
      "30/30 - 0s - 3ms/step - accuracy: 0.8011 - loss: 5.5591 - val_accuracy: 0.8462 - val_loss: 2.4933\n",
      "Epoch 65/200\n",
      "30/30 - 0s - 3ms/step - accuracy: 0.8000 - loss: 5.3194 - val_accuracy: 0.8462 - val_loss: 2.4880\n",
      "Epoch 66/200\n",
      "30/30 - 0s - 3ms/step - accuracy: 0.8011 - loss: 5.5340 - val_accuracy: 0.8462 - val_loss: 2.3857\n",
      "Epoch 67/200\n",
      "30/30 - 0s - 3ms/step - accuracy: 0.8021 - loss: 5.1798 - val_accuracy: 0.8462 - val_loss: 2.4272\n",
      "Epoch 68/200\n",
      "30/30 - 0s - 3ms/step - accuracy: 0.8000 - loss: 5.6240 - val_accuracy: 0.8462 - val_loss: 2.4270\n",
      "Epoch 69/200\n",
      "30/30 - 0s - 3ms/step - accuracy: 0.8021 - loss: 4.9895 - val_accuracy: 0.8462 - val_loss: 2.3696\n",
      "Epoch 70/200\n",
      "30/30 - 0s - 3ms/step - accuracy: 0.8074 - loss: 5.2110 - val_accuracy: 0.8462 - val_loss: 2.3602\n",
      "Epoch 71/200\n",
      "30/30 - 0s - 3ms/step - accuracy: 0.7989 - loss: 5.3180 - val_accuracy: 0.8462 - val_loss: 2.3896\n",
      "Epoch 72/200\n",
      "30/30 - 0s - 3ms/step - accuracy: 0.8043 - loss: 5.3093 - val_accuracy: 0.8462 - val_loss: 2.4088\n",
      "Epoch 73/200\n",
      "30/30 - 0s - 3ms/step - accuracy: 0.8000 - loss: 5.3258 - val_accuracy: 0.8462 - val_loss: 2.4380\n",
      "Epoch 74/200\n",
      "30/30 - 0s - 2ms/step - accuracy: 0.7989 - loss: 5.4337 - val_accuracy: 0.8462 - val_loss: 2.4631\n",
      "Epoch 75/200\n",
      "30/30 - 0s - 3ms/step - accuracy: 0.7968 - loss: 5.1248 - val_accuracy: 0.8462 - val_loss: 2.4173\n",
      "Epoch 76/200\n",
      "30/30 - 0s - 3ms/step - accuracy: 0.7957 - loss: 5.4227 - val_accuracy: 0.8462 - val_loss: 2.4227\n",
      "Epoch 77/200\n",
      "30/30 - 0s - 3ms/step - accuracy: 0.8032 - loss: 5.1915 - val_accuracy: 0.8462 - val_loss: 2.4368\n",
      "Epoch 78/200\n",
      "30/30 - 0s - 3ms/step - accuracy: 0.8053 - loss: 5.3280 - val_accuracy: 0.8462 - val_loss: 2.4286\n",
      "Epoch 79/200\n",
      "30/30 - 0s - 3ms/step - accuracy: 0.8032 - loss: 5.0472 - val_accuracy: 0.8462 - val_loss: 2.4119\n",
      "Epoch 80/200\n",
      "30/30 - 0s - 3ms/step - accuracy: 0.7926 - loss: 4.9577 - val_accuracy: 0.8462 - val_loss: 2.4134\n",
      "Epoch 81/200\n",
      "30/30 - 0s - 3ms/step - accuracy: 0.8011 - loss: 4.8325 - val_accuracy: 0.8462 - val_loss: 2.3362\n",
      "Epoch 82/200\n",
      "30/30 - 0s - 3ms/step - accuracy: 0.7947 - loss: 5.0085 - val_accuracy: 0.8462 - val_loss: 2.3527\n",
      "Epoch 83/200\n",
      "30/30 - 0s - 3ms/step - accuracy: 0.8032 - loss: 5.3306 - val_accuracy: 0.8462 - val_loss: 2.3221\n",
      "Epoch 84/200\n",
      "30/30 - 0s - 3ms/step - accuracy: 0.7979 - loss: 5.1429 - val_accuracy: 0.8462 - val_loss: 2.2948\n",
      "Epoch 85/200\n",
      "30/30 - 0s - 2ms/step - accuracy: 0.8074 - loss: 5.3225 - val_accuracy: 0.8462 - val_loss: 2.2775\n",
      "Epoch 86/200\n",
      "30/30 - 0s - 3ms/step - accuracy: 0.8011 - loss: 5.1881 - val_accuracy: 0.8462 - val_loss: 2.2936\n",
      "Epoch 87/200\n",
      "30/30 - 0s - 3ms/step - accuracy: 0.7947 - loss: 5.1186 - val_accuracy: 0.8462 - val_loss: 2.2515\n",
      "Epoch 88/200\n",
      "30/30 - 0s - 3ms/step - accuracy: 0.7883 - loss: 5.1261 - val_accuracy: 0.8462 - val_loss: 2.2205\n",
      "Epoch 89/200\n",
      "30/30 - 0s - 2ms/step - accuracy: 0.7926 - loss: 5.1828 - val_accuracy: 0.8462 - val_loss: 2.2000\n",
      "Epoch 90/200\n",
      "30/30 - 0s - 2ms/step - accuracy: 0.7989 - loss: 4.9191 - val_accuracy: 0.8462 - val_loss: 2.1706\n",
      "Epoch 91/200\n",
      "30/30 - 0s - 2ms/step - accuracy: 0.7872 - loss: 4.6002 - val_accuracy: 0.8462 - val_loss: 2.1947\n",
      "Epoch 92/200\n",
      "30/30 - 0s - 3ms/step - accuracy: 0.8074 - loss: 4.8270 - val_accuracy: 0.8462 - val_loss: 2.1813\n",
      "Epoch 93/200\n",
      "30/30 - 0s - 3ms/step - accuracy: 0.7957 - loss: 4.8112 - val_accuracy: 0.8462 - val_loss: 2.1989\n",
      "Epoch 94/200\n",
      "30/30 - 0s - 3ms/step - accuracy: 0.7830 - loss: 5.1782 - val_accuracy: 0.8462 - val_loss: 2.1906\n",
      "Epoch 95/200\n",
      "30/30 - 0s - 3ms/step - accuracy: 0.7957 - loss: 5.2202 - val_accuracy: 0.8462 - val_loss: 2.1758\n",
      "Epoch 96/200\n",
      "30/30 - 0s - 3ms/step - accuracy: 0.7915 - loss: 4.9463 - val_accuracy: 0.8462 - val_loss: 2.1239\n",
      "Epoch 97/200\n",
      "30/30 - 0s - 3ms/step - accuracy: 0.8032 - loss: 5.1412 - val_accuracy: 0.8462 - val_loss: 2.0965\n",
      "Epoch 98/200\n",
      "30/30 - 0s - 2ms/step - accuracy: 0.7957 - loss: 4.6925 - val_accuracy: 0.8462 - val_loss: 2.0317\n",
      "Epoch 99/200\n",
      "30/30 - 0s - 2ms/step - accuracy: 0.8011 - loss: 4.3920 - val_accuracy: 0.8462 - val_loss: 2.0387\n",
      "Epoch 100/200\n",
      "30/30 - 0s - 3ms/step - accuracy: 0.7915 - loss: 4.7015 - val_accuracy: 0.8462 - val_loss: 2.0783\n",
      "Epoch 101/200\n",
      "30/30 - 0s - 3ms/step - accuracy: 0.7968 - loss: 4.5589 - val_accuracy: 0.8462 - val_loss: 2.0793\n",
      "Epoch 102/200\n",
      "30/30 - 0s - 3ms/step - accuracy: 0.7979 - loss: 4.6376 - val_accuracy: 0.8462 - val_loss: 2.0790\n",
      "Epoch 103/200\n",
      "30/30 - 0s - 2ms/step - accuracy: 0.7947 - loss: 4.8491 - val_accuracy: 0.8462 - val_loss: 2.0766\n",
      "Epoch 104/200\n",
      "30/30 - 0s - 3ms/step - accuracy: 0.7979 - loss: 4.9474 - val_accuracy: 0.8462 - val_loss: 2.0652\n",
      "Epoch 105/200\n",
      "30/30 - 0s - 3ms/step - accuracy: 0.7734 - loss: 4.9368 - val_accuracy: 0.8462 - val_loss: 2.0346\n",
      "Epoch 106/200\n",
      "30/30 - 0s - 3ms/step - accuracy: 0.8021 - loss: 4.7380 - val_accuracy: 0.8462 - val_loss: 1.9867\n",
      "Epoch 107/200\n",
      "30/30 - 0s - 3ms/step - accuracy: 0.8149 - loss: 4.3633 - val_accuracy: 0.8462 - val_loss: 1.9770\n",
      "Epoch 108/200\n",
      "30/30 - 0s - 3ms/step - accuracy: 0.8021 - loss: 4.5901 - val_accuracy: 0.8462 - val_loss: 1.9341\n",
      "Epoch 109/200\n",
      "30/30 - 0s - 3ms/step - accuracy: 0.7947 - loss: 4.6287 - val_accuracy: 0.8462 - val_loss: 1.9334\n",
      "Epoch 110/200\n",
      "30/30 - 0s - 3ms/step - accuracy: 0.7968 - loss: 4.5435 - val_accuracy: 0.8462 - val_loss: 1.9622\n",
      "Epoch 111/200\n",
      "30/30 - 0s - 2ms/step - accuracy: 0.7968 - loss: 4.2653 - val_accuracy: 0.8547 - val_loss: 1.9029\n",
      "Epoch 112/200\n",
      "30/30 - 0s - 3ms/step - accuracy: 0.7883 - loss: 4.2201 - val_accuracy: 0.8547 - val_loss: 1.8923\n",
      "Epoch 113/200\n",
      "30/30 - 0s - 3ms/step - accuracy: 0.7904 - loss: 4.4055 - val_accuracy: 0.8462 - val_loss: 1.8977\n",
      "Epoch 114/200\n",
      "30/30 - 0s - 2ms/step - accuracy: 0.7819 - loss: 4.7515 - val_accuracy: 0.8462 - val_loss: 1.9008\n",
      "Epoch 115/200\n",
      "30/30 - 0s - 3ms/step - accuracy: 0.7894 - loss: 4.5359 - val_accuracy: 0.8632 - val_loss: 1.8428\n",
      "Epoch 116/200\n",
      "30/30 - 0s - 2ms/step - accuracy: 0.7713 - loss: 4.7334 - val_accuracy: 0.8632 - val_loss: 1.8625\n",
      "Epoch 117/200\n",
      "30/30 - 0s - 2ms/step - accuracy: 0.7830 - loss: 4.3011 - val_accuracy: 0.8632 - val_loss: 1.8525\n",
      "Epoch 118/200\n",
      "30/30 - 0s - 3ms/step - accuracy: 0.8138 - loss: 4.4446 - val_accuracy: 0.8803 - val_loss: 1.8862\n",
      "Epoch 119/200\n",
      "30/30 - 0s - 2ms/step - accuracy: 0.7840 - loss: 4.6489 - val_accuracy: 0.8803 - val_loss: 1.8990\n",
      "Epoch 120/200\n",
      "30/30 - 0s - 3ms/step - accuracy: 0.7713 - loss: 4.5130 - val_accuracy: 0.8803 - val_loss: 1.8256\n",
      "Epoch 121/200\n",
      "30/30 - 0s - 3ms/step - accuracy: 0.7947 - loss: 4.4223 - val_accuracy: 0.8803 - val_loss: 1.8232\n",
      "Epoch 122/200\n",
      "30/30 - 0s - 2ms/step - accuracy: 0.7883 - loss: 4.7333 - val_accuracy: 0.8889 - val_loss: 1.8143\n",
      "Epoch 123/200\n",
      "30/30 - 0s - 3ms/step - accuracy: 0.7830 - loss: 4.2618 - val_accuracy: 0.8889 - val_loss: 1.8033\n",
      "Epoch 124/200\n",
      "30/30 - 0s - 2ms/step - accuracy: 0.8000 - loss: 4.1156 - val_accuracy: 0.8889 - val_loss: 1.8014\n",
      "Epoch 125/200\n",
      "30/30 - 0s - 3ms/step - accuracy: 0.7851 - loss: 4.3884 - val_accuracy: 0.8889 - val_loss: 1.8101\n",
      "Epoch 126/200\n",
      "30/30 - 0s - 3ms/step - accuracy: 0.7979 - loss: 4.3722 - val_accuracy: 0.8889 - val_loss: 1.7971\n",
      "Epoch 127/200\n",
      "30/30 - 0s - 3ms/step - accuracy: 0.7979 - loss: 4.0838 - val_accuracy: 0.8803 - val_loss: 1.7848\n",
      "Epoch 128/200\n",
      "30/30 - 0s - 2ms/step - accuracy: 0.7904 - loss: 4.2367 - val_accuracy: 0.8803 - val_loss: 1.7853\n",
      "Epoch 129/200\n",
      "30/30 - 0s - 2ms/step - accuracy: 0.8117 - loss: 3.9773 - val_accuracy: 0.8803 - val_loss: 1.7601\n",
      "Epoch 130/200\n",
      "30/30 - 0s - 2ms/step - accuracy: 0.7957 - loss: 4.0856 - val_accuracy: 0.8803 - val_loss: 1.7283\n",
      "Epoch 131/200\n",
      "30/30 - 0s - 3ms/step - accuracy: 0.7872 - loss: 4.3114 - val_accuracy: 0.8803 - val_loss: 1.7031\n",
      "Epoch 132/200\n",
      "30/30 - 0s - 2ms/step - accuracy: 0.7957 - loss: 4.2001 - val_accuracy: 0.8803 - val_loss: 1.7184\n",
      "Epoch 133/200\n",
      "30/30 - 0s - 2ms/step - accuracy: 0.8170 - loss: 4.1051 - val_accuracy: 0.8803 - val_loss: 1.7289\n",
      "Epoch 134/200\n",
      "30/30 - 0s - 3ms/step - accuracy: 0.7830 - loss: 4.0311 - val_accuracy: 0.8803 - val_loss: 1.7298\n",
      "Epoch 135/200\n",
      "30/30 - 0s - 3ms/step - accuracy: 0.7809 - loss: 4.0059 - val_accuracy: 0.8803 - val_loss: 1.7141\n",
      "Epoch 136/200\n",
      "30/30 - 0s - 3ms/step - accuracy: 0.7989 - loss: 4.2041 - val_accuracy: 0.8803 - val_loss: 1.6660\n",
      "Epoch 137/200\n",
      "30/30 - 0s - 3ms/step - accuracy: 0.7936 - loss: 3.8632 - val_accuracy: 0.8803 - val_loss: 1.6994\n",
      "Epoch 138/200\n",
      "30/30 - 0s - 3ms/step - accuracy: 0.7755 - loss: 4.0272 - val_accuracy: 0.8889 - val_loss: 1.7167\n",
      "Epoch 139/200\n",
      "30/30 - 0s - 3ms/step - accuracy: 0.7819 - loss: 3.9731 - val_accuracy: 0.8889 - val_loss: 1.7259\n",
      "Epoch 140/200\n",
      "30/30 - 0s - 3ms/step - accuracy: 0.7979 - loss: 3.9055 - val_accuracy: 0.8889 - val_loss: 1.7032\n",
      "Epoch 141/200\n",
      "30/30 - 0s - 2ms/step - accuracy: 0.7894 - loss: 3.5924 - val_accuracy: 0.8889 - val_loss: 1.6601\n",
      "Epoch 142/200\n",
      "30/30 - 0s - 3ms/step - accuracy: 0.7745 - loss: 4.0449 - val_accuracy: 0.8974 - val_loss: 1.6662\n",
      "Epoch 143/200\n",
      "30/30 - 0s - 3ms/step - accuracy: 0.7851 - loss: 3.8202 - val_accuracy: 0.8974 - val_loss: 1.6464\n",
      "Epoch 144/200\n",
      "30/30 - 0s - 3ms/step - accuracy: 0.8032 - loss: 3.7349 - val_accuracy: 0.8974 - val_loss: 1.6669\n",
      "Epoch 145/200\n",
      "30/30 - 0s - 3ms/step - accuracy: 0.7830 - loss: 3.8288 - val_accuracy: 0.8974 - val_loss: 1.6411\n",
      "Epoch 146/200\n",
      "30/30 - 0s - 2ms/step - accuracy: 0.7979 - loss: 3.8134 - val_accuracy: 0.8974 - val_loss: 1.6336\n",
      "Epoch 147/200\n",
      "30/30 - 0s - 3ms/step - accuracy: 0.7862 - loss: 3.8643 - val_accuracy: 0.8974 - val_loss: 1.6143\n",
      "Epoch 148/200\n",
      "30/30 - 0s - 3ms/step - accuracy: 0.7734 - loss: 3.7974 - val_accuracy: 0.8974 - val_loss: 1.6325\n",
      "Epoch 149/200\n",
      "30/30 - 0s - 3ms/step - accuracy: 0.7936 - loss: 4.0169 - val_accuracy: 0.8974 - val_loss: 1.5877\n",
      "Epoch 150/200\n",
      "30/30 - 0s - 3ms/step - accuracy: 0.7734 - loss: 4.0958 - val_accuracy: 0.8974 - val_loss: 1.5926\n",
      "Epoch 151/200\n",
      "30/30 - 0s - 3ms/step - accuracy: 0.7734 - loss: 3.9220 - val_accuracy: 0.8974 - val_loss: 1.5711\n",
      "Epoch 152/200\n",
      "30/30 - 0s - 3ms/step - accuracy: 0.7851 - loss: 3.8372 - val_accuracy: 0.8974 - val_loss: 1.5634\n",
      "Epoch 153/200\n",
      "30/30 - 0s - 3ms/step - accuracy: 0.7777 - loss: 3.6193 - val_accuracy: 0.8974 - val_loss: 1.5538\n",
      "Epoch 154/200\n",
      "30/30 - 0s - 3ms/step - accuracy: 0.7883 - loss: 3.7195 - val_accuracy: 0.8974 - val_loss: 1.5785\n",
      "Epoch 155/200\n",
      "30/30 - 0s - 3ms/step - accuracy: 0.7819 - loss: 3.5863 - val_accuracy: 0.8974 - val_loss: 1.5735\n",
      "Epoch 156/200\n",
      "30/30 - 0s - 3ms/step - accuracy: 0.7777 - loss: 3.7385 - val_accuracy: 0.8974 - val_loss: 1.5762\n",
      "Epoch 157/200\n",
      "30/30 - 0s - 3ms/step - accuracy: 0.7745 - loss: 3.7667 - val_accuracy: 0.8974 - val_loss: 1.5762\n",
      "Epoch 158/200\n",
      "30/30 - 0s - 3ms/step - accuracy: 0.7798 - loss: 3.6329 - val_accuracy: 0.8974 - val_loss: 1.5484\n",
      "Epoch 159/200\n",
      "30/30 - 0s - 3ms/step - accuracy: 0.7755 - loss: 3.7706 - val_accuracy: 0.8974 - val_loss: 1.5088\n",
      "Epoch 160/200\n",
      "30/30 - 0s - 3ms/step - accuracy: 0.8064 - loss: 3.6865 - val_accuracy: 0.8974 - val_loss: 1.5321\n",
      "Epoch 161/200\n",
      "30/30 - 0s - 3ms/step - accuracy: 0.7989 - loss: 3.6538 - val_accuracy: 0.8974 - val_loss: 1.5287\n",
      "Epoch 162/200\n",
      "30/30 - 0s - 3ms/step - accuracy: 0.7851 - loss: 3.5678 - val_accuracy: 0.8974 - val_loss: 1.4785\n",
      "Epoch 163/200\n",
      "30/30 - 0s - 3ms/step - accuracy: 0.7936 - loss: 3.5402 - val_accuracy: 0.8974 - val_loss: 1.5128\n",
      "Epoch 164/200\n",
      "30/30 - 0s - 3ms/step - accuracy: 0.7894 - loss: 3.5737 - val_accuracy: 0.8974 - val_loss: 1.5020\n",
      "Epoch 165/200\n",
      "30/30 - 0s - 2ms/step - accuracy: 0.8128 - loss: 3.3977 - val_accuracy: 0.9060 - val_loss: 1.5045\n",
      "Epoch 166/200\n",
      "30/30 - 0s - 2ms/step - accuracy: 0.7926 - loss: 3.5933 - val_accuracy: 0.9060 - val_loss: 1.5079\n",
      "Epoch 167/200\n",
      "30/30 - 0s - 2ms/step - accuracy: 0.7819 - loss: 3.5154 - val_accuracy: 0.9060 - val_loss: 1.5301\n",
      "Epoch 168/200\n",
      "30/30 - 0s - 3ms/step - accuracy: 0.7872 - loss: 3.5603 - val_accuracy: 0.9060 - val_loss: 1.4959\n",
      "Epoch 169/200\n",
      "30/30 - 0s - 2ms/step - accuracy: 0.7787 - loss: 3.5700 - val_accuracy: 0.9060 - val_loss: 1.5112\n",
      "Epoch 170/200\n",
      "30/30 - 0s - 3ms/step - accuracy: 0.7819 - loss: 3.3200 - val_accuracy: 0.8974 - val_loss: 1.4890\n",
      "Epoch 171/200\n",
      "30/30 - 0s - 3ms/step - accuracy: 0.8128 - loss: 3.4540 - val_accuracy: 0.8974 - val_loss: 1.5226\n",
      "Epoch 172/200\n",
      "30/30 - 0s - 3ms/step - accuracy: 0.7883 - loss: 3.5631 - val_accuracy: 0.9060 - val_loss: 1.4846\n",
      "Epoch 173/200\n",
      "30/30 - 0s - 3ms/step - accuracy: 0.8032 - loss: 3.3058 - val_accuracy: 0.9060 - val_loss: 1.4629\n",
      "Epoch 174/200\n",
      "30/30 - 0s - 3ms/step - accuracy: 0.8032 - loss: 3.3015 - val_accuracy: 0.9060 - val_loss: 1.4665\n",
      "Epoch 175/200\n",
      "30/30 - 0s - 3ms/step - accuracy: 0.8011 - loss: 3.2432 - val_accuracy: 0.9060 - val_loss: 1.4919\n",
      "Epoch 176/200\n",
      "30/30 - 0s - 2ms/step - accuracy: 0.7840 - loss: 3.4104 - val_accuracy: 0.9060 - val_loss: 1.4622\n",
      "Epoch 177/200\n",
      "30/30 - 0s - 2ms/step - accuracy: 0.8000 - loss: 3.3349 - val_accuracy: 0.9060 - val_loss: 1.4659\n",
      "Epoch 178/200\n",
      "30/30 - 0s - 3ms/step - accuracy: 0.7851 - loss: 3.3351 - val_accuracy: 0.9060 - val_loss: 1.4399\n",
      "Epoch 179/200\n",
      "30/30 - 0s - 2ms/step - accuracy: 0.7798 - loss: 3.4593 - val_accuracy: 0.9060 - val_loss: 1.4331\n",
      "Epoch 180/200\n",
      "30/30 - 0s - 2ms/step - accuracy: 0.8085 - loss: 3.1366 - val_accuracy: 0.9060 - val_loss: 1.4059\n",
      "Epoch 181/200\n",
      "30/30 - 0s - 3ms/step - accuracy: 0.7745 - loss: 3.3112 - val_accuracy: 0.9060 - val_loss: 1.4216\n",
      "Epoch 182/200\n",
      "30/30 - 0s - 2ms/step - accuracy: 0.7851 - loss: 3.2840 - val_accuracy: 0.9060 - val_loss: 1.4329\n",
      "Epoch 183/200\n",
      "30/30 - 0s - 3ms/step - accuracy: 0.8085 - loss: 3.2922 - val_accuracy: 0.9060 - val_loss: 1.4331\n",
      "Epoch 184/200\n",
      "30/30 - 0s - 2ms/step - accuracy: 0.7968 - loss: 3.0930 - val_accuracy: 0.9060 - val_loss: 1.4328\n",
      "Epoch 185/200\n",
      "30/30 - 0s - 3ms/step - accuracy: 0.8117 - loss: 3.3157 - val_accuracy: 0.9060 - val_loss: 1.4462\n",
      "Epoch 186/200\n",
      "30/30 - 0s - 3ms/step - accuracy: 0.7989 - loss: 3.1299 - val_accuracy: 0.9060 - val_loss: 1.4611\n",
      "Epoch 187/200\n",
      "30/30 - 0s - 3ms/step - accuracy: 0.8064 - loss: 3.1304 - val_accuracy: 0.9060 - val_loss: 1.4484\n",
      "Epoch 188/200\n",
      "30/30 - 0s - 3ms/step - accuracy: 0.7989 - loss: 3.2063 - val_accuracy: 0.9060 - val_loss: 1.4521\n",
      "Epoch 189/200\n",
      "30/30 - 0s - 2ms/step - accuracy: 0.7862 - loss: 3.2104 - val_accuracy: 0.9060 - val_loss: 1.4490\n",
      "Epoch 190/200\n",
      "30/30 - 0s - 2ms/step - accuracy: 0.8181 - loss: 2.9640 - val_accuracy: 0.9060 - val_loss: 1.4126\n",
      "Epoch 191/200\n",
      "30/30 - 0s - 2ms/step - accuracy: 0.7926 - loss: 3.1780 - val_accuracy: 0.9060 - val_loss: 1.3496\n",
      "Epoch 192/200\n",
      "30/30 - 0s - 3ms/step - accuracy: 0.7915 - loss: 3.3881 - val_accuracy: 0.8974 - val_loss: 1.3617\n",
      "Epoch 193/200\n",
      "30/30 - 0s - 2ms/step - accuracy: 0.7926 - loss: 3.1497 - val_accuracy: 0.8974 - val_loss: 1.3613\n",
      "Epoch 194/200\n",
      "30/30 - 0s - 3ms/step - accuracy: 0.8021 - loss: 2.9508 - val_accuracy: 0.9060 - val_loss: 1.3663\n",
      "Epoch 195/200\n",
      "30/30 - 0s - 3ms/step - accuracy: 0.7989 - loss: 3.2993 - val_accuracy: 0.8974 - val_loss: 1.3494\n",
      "Epoch 196/200\n",
      "30/30 - 0s - 3ms/step - accuracy: 0.8223 - loss: 3.2060 - val_accuracy: 0.8889 - val_loss: 1.3872\n",
      "Epoch 197/200\n",
      "30/30 - 0s - 3ms/step - accuracy: 0.7989 - loss: 2.9571 - val_accuracy: 0.8889 - val_loss: 1.3760\n",
      "Epoch 198/200\n",
      "30/30 - 0s - 2ms/step - accuracy: 0.8213 - loss: 3.0280 - val_accuracy: 0.8889 - val_loss: 1.3483\n",
      "Epoch 199/200\n",
      "30/30 - 0s - 2ms/step - accuracy: 0.7872 - loss: 3.0267 - val_accuracy: 0.8889 - val_loss: 1.3241\n",
      "Epoch 200/200\n",
      "30/30 - 0s - 2ms/step - accuracy: 0.8106 - loss: 3.1615 - val_accuracy: 0.8889 - val_loss: 1.3080\n",
      "Test loss:  1.3856737613677979\n",
      "Test accuracy:  0.8898305296897888\n"
     ]
    }
   ],
   "source": [
    "model.compile(optimizer = tf.keras.optimizers.Adadelta(learning_rate=0.2),\n",
    "              loss = tf.keras.losses.MeanSquaredError(),\n",
    "              metrics = ['accuracy'])\n",
    "model.fit(\n",
    "    X_train_n,Y_train, \n",
    "    batch_size = 32,\n",
    "    epochs=200,\n",
    "    verbose = 2,\n",
    "    validation_data = (X_validation_n, Y_validation)\n",
    ")\n",
    "\n",
    "score = model.evaluate(X_test_n, Y_test, verbose = 0)\n",
    "print('Test loss: ', score[0])\n",
    "print('Test accuracy: ', score[1])"
   ]
  },
  {
   "cell_type": "code",
   "execution_count": 8,
   "id": "3b8d95f5",
   "metadata": {
    "execution": {
     "iopub.execute_input": "2025-02-11T17:33:32.994516Z",
     "iopub.status.busy": "2025-02-11T17:33:32.994167Z",
     "iopub.status.idle": "2025-02-11T17:33:33.015081Z",
     "shell.execute_reply": "2025-02-11T17:33:33.013889Z"
    },
    "papermill": {
     "duration": 0.042801,
     "end_time": "2025-02-11T17:33:33.017353",
     "exception": false,
     "start_time": "2025-02-11T17:33:32.974552",
     "status": "completed"
    },
    "tags": []
   },
   "outputs": [
    {
     "data": {
      "text/html": [
       "<pre style=\"white-space:pre;overflow-x:auto;line-height:normal;font-family:Menlo,'DejaVu Sans Mono',consolas,'Courier New',monospace\"><span style=\"font-weight: bold\">Model: \"sequential\"</span>\n",
       "</pre>\n"
      ],
      "text/plain": [
       "\u001b[1mModel: \"sequential\"\u001b[0m\n"
      ]
     },
     "metadata": {},
     "output_type": "display_data"
    },
    {
     "data": {
      "text/html": [
       "<pre style=\"white-space:pre;overflow-x:auto;line-height:normal;font-family:Menlo,'DejaVu Sans Mono',consolas,'Courier New',monospace\">┏━━━━━━━━━━━━━━━━━━━━━━━━━━━━━━━━━┳━━━━━━━━━━━━━━━━━━━━━━━━┳━━━━━━━━━━━━━━━┓\n",
       "┃<span style=\"font-weight: bold\"> Layer (type)                    </span>┃<span style=\"font-weight: bold\"> Output Shape           </span>┃<span style=\"font-weight: bold\">       Param # </span>┃\n",
       "┡━━━━━━━━━━━━━━━━━━━━━━━━━━━━━━━━━╇━━━━━━━━━━━━━━━━━━━━━━━━╇━━━━━━━━━━━━━━━┩\n",
       "│ layer1 (<span style=\"color: #0087ff; text-decoration-color: #0087ff\">Dense</span>)                  │ (<span style=\"color: #00d7ff; text-decoration-color: #00d7ff\">None</span>, <span style=\"color: #00af00; text-decoration-color: #00af00\">10</span>)             │           <span style=\"color: #00af00; text-decoration-color: #00af00\">100</span> │\n",
       "├─────────────────────────────────┼────────────────────────┼───────────────┤\n",
       "│ dropout (<span style=\"color: #0087ff; text-decoration-color: #0087ff\">Dropout</span>)               │ (<span style=\"color: #00d7ff; text-decoration-color: #00d7ff\">None</span>, <span style=\"color: #00af00; text-decoration-color: #00af00\">10</span>)             │             <span style=\"color: #00af00; text-decoration-color: #00af00\">0</span> │\n",
       "├─────────────────────────────────┼────────────────────────┼───────────────┤\n",
       "│ layer2 (<span style=\"color: #0087ff; text-decoration-color: #0087ff\">Dense</span>)                  │ (<span style=\"color: #00d7ff; text-decoration-color: #00d7ff\">None</span>, <span style=\"color: #00af00; text-decoration-color: #00af00\">9</span>)              │            <span style=\"color: #00af00; text-decoration-color: #00af00\">99</span> │\n",
       "├─────────────────────────────────┼────────────────────────┼───────────────┤\n",
       "│ dropout_1 (<span style=\"color: #0087ff; text-decoration-color: #0087ff\">Dropout</span>)             │ (<span style=\"color: #00d7ff; text-decoration-color: #00d7ff\">None</span>, <span style=\"color: #00af00; text-decoration-color: #00af00\">9</span>)              │             <span style=\"color: #00af00; text-decoration-color: #00af00\">0</span> │\n",
       "├─────────────────────────────────┼────────────────────────┼───────────────┤\n",
       "│ layer3 (<span style=\"color: #0087ff; text-decoration-color: #0087ff\">Dense</span>)                  │ (<span style=\"color: #00d7ff; text-decoration-color: #00d7ff\">None</span>, <span style=\"color: #00af00; text-decoration-color: #00af00\">4</span>)              │            <span style=\"color: #00af00; text-decoration-color: #00af00\">40</span> │\n",
       "└─────────────────────────────────┴────────────────────────┴───────────────┘\n",
       "</pre>\n"
      ],
      "text/plain": [
       "┏━━━━━━━━━━━━━━━━━━━━━━━━━━━━━━━━━┳━━━━━━━━━━━━━━━━━━━━━━━━┳━━━━━━━━━━━━━━━┓\n",
       "┃\u001b[1m \u001b[0m\u001b[1mLayer (type)                   \u001b[0m\u001b[1m \u001b[0m┃\u001b[1m \u001b[0m\u001b[1mOutput Shape          \u001b[0m\u001b[1m \u001b[0m┃\u001b[1m \u001b[0m\u001b[1m      Param #\u001b[0m\u001b[1m \u001b[0m┃\n",
       "┡━━━━━━━━━━━━━━━━━━━━━━━━━━━━━━━━━╇━━━━━━━━━━━━━━━━━━━━━━━━╇━━━━━━━━━━━━━━━┩\n",
       "│ layer1 (\u001b[38;5;33mDense\u001b[0m)                  │ (\u001b[38;5;45mNone\u001b[0m, \u001b[38;5;34m10\u001b[0m)             │           \u001b[38;5;34m100\u001b[0m │\n",
       "├─────────────────────────────────┼────────────────────────┼───────────────┤\n",
       "│ dropout (\u001b[38;5;33mDropout\u001b[0m)               │ (\u001b[38;5;45mNone\u001b[0m, \u001b[38;5;34m10\u001b[0m)             │             \u001b[38;5;34m0\u001b[0m │\n",
       "├─────────────────────────────────┼────────────────────────┼───────────────┤\n",
       "│ layer2 (\u001b[38;5;33mDense\u001b[0m)                  │ (\u001b[38;5;45mNone\u001b[0m, \u001b[38;5;34m9\u001b[0m)              │            \u001b[38;5;34m99\u001b[0m │\n",
       "├─────────────────────────────────┼────────────────────────┼───────────────┤\n",
       "│ dropout_1 (\u001b[38;5;33mDropout\u001b[0m)             │ (\u001b[38;5;45mNone\u001b[0m, \u001b[38;5;34m9\u001b[0m)              │             \u001b[38;5;34m0\u001b[0m │\n",
       "├─────────────────────────────────┼────────────────────────┼───────────────┤\n",
       "│ layer3 (\u001b[38;5;33mDense\u001b[0m)                  │ (\u001b[38;5;45mNone\u001b[0m, \u001b[38;5;34m4\u001b[0m)              │            \u001b[38;5;34m40\u001b[0m │\n",
       "└─────────────────────────────────┴────────────────────────┴───────────────┘\n"
      ]
     },
     "metadata": {},
     "output_type": "display_data"
    },
    {
     "data": {
      "text/html": [
       "<pre style=\"white-space:pre;overflow-x:auto;line-height:normal;font-family:Menlo,'DejaVu Sans Mono',consolas,'Courier New',monospace\"><span style=\"font-weight: bold\"> Total params: </span><span style=\"color: #00af00; text-decoration-color: #00af00\">719</span> (2.81 KB)\n",
       "</pre>\n"
      ],
      "text/plain": [
       "\u001b[1m Total params: \u001b[0m\u001b[38;5;34m719\u001b[0m (2.81 KB)\n"
      ]
     },
     "metadata": {},
     "output_type": "display_data"
    },
    {
     "data": {
      "text/html": [
       "<pre style=\"white-space:pre;overflow-x:auto;line-height:normal;font-family:Menlo,'DejaVu Sans Mono',consolas,'Courier New',monospace\"><span style=\"font-weight: bold\"> Trainable params: </span><span style=\"color: #00af00; text-decoration-color: #00af00\">239</span> (956.00 B)\n",
       "</pre>\n"
      ],
      "text/plain": [
       "\u001b[1m Trainable params: \u001b[0m\u001b[38;5;34m239\u001b[0m (956.00 B)\n"
      ]
     },
     "metadata": {},
     "output_type": "display_data"
    },
    {
     "data": {
      "text/html": [
       "<pre style=\"white-space:pre;overflow-x:auto;line-height:normal;font-family:Menlo,'DejaVu Sans Mono',consolas,'Courier New',monospace\"><span style=\"font-weight: bold\"> Non-trainable params: </span><span style=\"color: #00af00; text-decoration-color: #00af00\">0</span> (0.00 B)\n",
       "</pre>\n"
      ],
      "text/plain": [
       "\u001b[1m Non-trainable params: \u001b[0m\u001b[38;5;34m0\u001b[0m (0.00 B)\n"
      ]
     },
     "metadata": {},
     "output_type": "display_data"
    },
    {
     "data": {
      "text/html": [
       "<pre style=\"white-space:pre;overflow-x:auto;line-height:normal;font-family:Menlo,'DejaVu Sans Mono',consolas,'Courier New',monospace\"><span style=\"font-weight: bold\"> Optimizer params: </span><span style=\"color: #00af00; text-decoration-color: #00af00\">480</span> (1.88 KB)\n",
       "</pre>\n"
      ],
      "text/plain": [
       "\u001b[1m Optimizer params: \u001b[0m\u001b[38;5;34m480\u001b[0m (1.88 KB)\n"
      ]
     },
     "metadata": {},
     "output_type": "display_data"
    }
   ],
   "source": [
    "model.summary()"
   ]
  },
  {
   "cell_type": "code",
   "execution_count": 9,
   "id": "0d42712e",
   "metadata": {
    "execution": {
     "iopub.execute_input": "2025-02-11T17:33:33.057183Z",
     "iopub.status.busy": "2025-02-11T17:33:33.056805Z",
     "iopub.status.idle": "2025-02-11T17:33:33.138270Z",
     "shell.execute_reply": "2025-02-11T17:33:33.137422Z"
    },
    "papermill": {
     "duration": 0.103808,
     "end_time": "2025-02-11T17:33:33.140300",
     "exception": false,
     "start_time": "2025-02-11T17:33:33.036492",
     "status": "completed"
    },
    "tags": []
   },
   "outputs": [],
   "source": [
    "\n",
    "model.save('my_model.h5')  # creates a HDF5 file 'my_model.h5'\n",
    "del model  # deletes the existing model\n",
    "\n",
    "# returns a compiled model\n",
    "# identical to the previous one\n",
    "model = load_model('my_model.h5')"
   ]
  },
  {
   "cell_type": "code",
   "execution_count": 10,
   "id": "42503a93",
   "metadata": {
    "execution": {
     "iopub.execute_input": "2025-02-11T17:33:33.177750Z",
     "iopub.status.busy": "2025-02-11T17:33:33.177368Z",
     "iopub.status.idle": "2025-02-11T17:33:33.185357Z",
     "shell.execute_reply": "2025-02-11T17:33:33.184448Z"
    },
    "papermill": {
     "duration": 0.028914,
     "end_time": "2025-02-11T17:33:33.187220",
     "exception": false,
     "start_time": "2025-02-11T17:33:33.158306",
     "status": "completed"
    },
    "tags": []
   },
   "outputs": [
    {
     "name": "stdout",
     "output_type": "stream",
     "text": [
      "W1:\n",
      " [[ 0.5722509   0.21062629 -0.14830129 -0.06349944 -0.07737809 -0.03526865\n",
      "  -0.20675553 -0.35163248  0.24489073 -0.5748606 ]\n",
      " [ 0.40988395 -0.2682261  -0.07262499 -0.17292939 -0.34986433 -0.05625328\n",
      "  -0.13786472 -0.08786851  0.07191488  0.52100766]\n",
      " [-0.15761061  0.32755223 -0.43850517 -0.29598442 -0.3392508  -0.00216763\n",
      "   0.1567056   0.20043333  0.2434838  -0.32676238]\n",
      " [-0.39909622  0.39764684 -0.35920602 -0.26474828 -0.29163304 -0.07763721\n",
      "   0.27019763  0.16565706 -0.17694648  0.13986291]\n",
      " [ 0.03531423  0.74487877  0.2015494   0.6629659  -0.12496899  0.33512855\n",
      "  -0.1695465   0.4186064   0.08099569 -0.29683924]\n",
      " [ 0.18183357 -0.47666526  0.10940319  0.29490778 -0.22356069 -0.23126282\n",
      "   0.20919418  0.02306103 -0.1851689  -0.36704156]\n",
      " [ 0.4016356  -0.3332086   0.45056343  0.26819068 -0.49184346  0.25415713\n",
      "   0.1898388  -0.32880074  0.06697115 -0.08820713]\n",
      " [-0.54761577 -0.04417923 -0.50910115  0.16255496 -0.11057612  0.00952765\n",
      "   0.09760952 -0.6346595  -0.2525094   0.36409718]\n",
      " [ 0.12976208 -0.18168537  0.20394208 -0.30646917 -0.19207266 -0.56958187\n",
      "   0.03076827 -0.12120145 -0.6910817   0.12865768]] \n",
      "b1: [ 0.04591807 -0.02932036  0.38000488  0.18648946  0.45234343  0.02053693\n",
      " -0.27460587  0.28441042  0.29598755  0.11843313]\n",
      "W2:\n",
      " [[ 0.05780231  0.2895551  -0.21604031  0.38616243 -0.1968216  -0.54342407\n",
      "  -0.22488597  0.48605755  0.5620304 ]\n",
      " [-0.18752472  0.36757854 -0.27795988  0.24849527  0.43993735 -0.28121278\n",
      "  -0.02857947 -0.24596195  0.46490717]\n",
      " [-0.22585936  0.34784538  0.17916027  0.10128389  0.44166476  0.17013739\n",
      "   0.13569929  0.3750015   0.02606243]\n",
      " [ 0.1119746   0.15756309 -0.24765944 -0.11703616  0.2831907   0.3771372\n",
      "   0.08017133  0.06094907  0.40539864]\n",
      " [ 0.49438083 -0.12527388 -0.21055327  0.49253097 -0.19006032  0.507337\n",
      "  -0.23153949 -0.09273504  0.3626152 ]\n",
      " [ 0.2208358  -0.05186799  0.01543052  0.7413946   0.55426157 -0.24484518\n",
      "  -0.00430686 -0.25007448  0.02918016]\n",
      " [-0.24349582 -0.50014734  0.16368558 -0.31318486 -0.07118797 -0.322049\n",
      "  -0.16515087 -0.4144585  -0.06439205]\n",
      " [-0.12229473  0.7577746   0.13695964  0.21990882  0.15945843  0.3788153\n",
      "  -0.25498933 -0.25906295 -0.25211224]\n",
      " [-0.37072384  0.22197543  0.1844127   0.2942875   0.29412878 -0.09382263\n",
      "   0.08062572  0.62445414  0.4231742 ]\n",
      " [-0.3886296   0.04436759  0.6236943   0.23348102 -0.09347229 -0.22495744\n",
      "  -0.58458644 -0.06582551  0.09139755]] \n",
      "b2: [ 0.4998421   0.97657406  0.45476708  0.42913997  0.40576282  0.2752394\n",
      " -0.29716843  0.12977022  0.45400718]\n"
     ]
    }
   ],
   "source": [
    "W1, b1 = model.get_layer(\"layer1\").get_weights()\n",
    "W2, b2 = model.get_layer(\"layer2\").get_weights()\n",
    "print(\"W1:\\n\", W1, \"\\nb1:\", b1)\n",
    "print(\"W2:\\n\", W2, \"\\nb2:\", b2)"
   ]
  },
  {
   "cell_type": "code",
   "execution_count": 11,
   "id": "300e5448",
   "metadata": {
    "execution": {
     "iopub.execute_input": "2025-02-11T17:33:33.224978Z",
     "iopub.status.busy": "2025-02-11T17:33:33.224705Z",
     "iopub.status.idle": "2025-02-11T17:33:33.230084Z",
     "shell.execute_reply": "2025-02-11T17:33:33.229339Z"
    },
    "papermill": {
     "duration": 0.026155,
     "end_time": "2025-02-11T17:33:33.231493",
     "exception": false,
     "start_time": "2025-02-11T17:33:33.205338",
     "status": "completed"
    },
    "tags": []
   },
   "outputs": [],
   "source": [
    "def predict_with_model(df, row_name, model):\n",
    "    # Assuming df is your pandas DataFrame\n",
    "    # Extract the specified row\n",
    "    selected_row = np.array(df[df['MOLD'] == row_name])\n",
    "    # Extract columns 6-14\n",
    "    features = selected_row[0][6:15]\n",
    "\n",
    "  # Create a Keras normalization layer\n",
    "    normalization_layer = tf.keras.layers.Normalization(axis=-1)\n",
    "    normalization_layer.adapt(X_test)  # Compute mean and variance\n",
    "\n",
    "    # Normalize the features\n",
    "    normalized_features = normalization_layer(features)\n",
    "    print(normalized_features)\n",
    "    # Predict using the model\n",
    "    predicted_values = np.round(model.predict(normalized_features))\n",
    "\n",
    "    # Print results\n",
    "    print(f\"Row Name: {row_name}\")\n",
    "    print(f\"Predicted Values: {predicted_values}\")\n",
    "    print(f\"Actual Values: {selected_row[0][2:6]}\")  # Assuming 'target' is the actual value column\n",
    "    "
   ]
  },
  {
   "cell_type": "code",
   "execution_count": 12,
   "id": "760a882e",
   "metadata": {
    "execution": {
     "iopub.execute_input": "2025-02-11T17:33:33.267391Z",
     "iopub.status.busy": "2025-02-11T17:33:33.267069Z",
     "iopub.status.idle": "2025-02-11T17:33:33.356953Z",
     "shell.execute_reply": "2025-02-11T17:33:33.356057Z"
    },
    "papermill": {
     "duration": 0.109315,
     "end_time": "2025-02-11T17:33:33.358403",
     "exception": false,
     "start_time": "2025-02-11T17:33:33.249088",
     "status": "completed"
    },
    "tags": []
   },
   "outputs": [
    {
     "name": "stdout",
     "output_type": "stream",
     "text": [
      "tf.Tensor(\n",
      "[[ 0.9466042  -0.6030015  -0.40230379 -0.37754315  1.3533851  -1.3349031\n",
      "  -0.25482324 -1.0005109  -0.32063022]], shape=(1, 9), dtype=float32)\n",
      "\u001b[1m1/1\u001b[0m \u001b[32m━━━━━━━━━━━━━━━━━━━━\u001b[0m\u001b[37m\u001b[0m \u001b[1m0s\u001b[0m 41ms/step\n",
      "Row Name: Force\n",
      "Predicted Values: [[10.  5.  0.  3.]]\n",
      "Actual Values: [12.0 5.0 0.0 3.0]\n"
     ]
    }
   ],
   "source": [
    "predict_with_model(df,'Force',model)"
   ]
  }
 ],
 "metadata": {
  "kaggle": {
   "accelerator": "none",
   "dataSources": [
    {
     "datasetId": 3397336,
     "sourceId": 5915162,
     "sourceType": "datasetVersion"
    }
   ],
   "dockerImageVersionId": 30664,
   "isGpuEnabled": false,
   "isInternetEnabled": true,
   "language": "python",
   "sourceType": "notebook"
  },
  "kernelspec": {
   "display_name": "Python 3",
   "language": "python",
   "name": "python3"
  },
  "language_info": {
   "codemirror_mode": {
    "name": "ipython",
    "version": 3
   },
   "file_extension": ".py",
   "mimetype": "text/x-python",
   "name": "python",
   "nbconvert_exporter": "python",
   "pygments_lexer": "ipython3",
   "version": "3.10.13"
  },
  "papermill": {
   "default_parameters": {},
   "duration": 45.017145,
   "end_time": "2025-02-11T17:33:35.855257",
   "environment_variables": {},
   "exception": null,
   "input_path": "__notebook__.ipynb",
   "output_path": "__notebook__.ipynb",
   "parameters": {},
   "start_time": "2025-02-11T17:32:50.838112",
   "version": "2.5.0"
  }
 },
 "nbformat": 4,
 "nbformat_minor": 5
}
