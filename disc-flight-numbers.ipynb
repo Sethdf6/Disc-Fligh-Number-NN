{
 "cells": [
  {
   "cell_type": "code",
   "execution_count": 1,
   "id": "42577a0e",
   "metadata": {
    "_cell_guid": "b1076dfc-b9ad-4769-8c92-a6c4dae69d19",
    "_uuid": "8f2839f25d086af736a60e9eeb907d3b93b6e0e5",
    "execution": {
     "iopub.execute_input": "2025-02-11T03:36:26.442660Z",
     "iopub.status.busy": "2025-02-11T03:36:26.442267Z",
     "iopub.status.idle": "2025-02-11T03:36:42.764675Z",
     "shell.execute_reply": "2025-02-11T03:36:42.763225Z"
    },
    "papermill": {
     "duration": 16.331907,
     "end_time": "2025-02-11T03:36:42.767524",
     "exception": false,
     "start_time": "2025-02-11T03:36:26.435617",
     "status": "completed"
    },
    "tags": []
   },
   "outputs": [
    {
     "name": "stderr",
     "output_type": "stream",
     "text": [
      "2025-02-11 03:36:31.420305: E external/local_xla/xla/stream_executor/cuda/cuda_dnn.cc:9261] Unable to register cuDNN factory: Attempting to register factory for plugin cuDNN when one has already been registered\n",
      "2025-02-11 03:36:31.420453: E external/local_xla/xla/stream_executor/cuda/cuda_fft.cc:607] Unable to register cuFFT factory: Attempting to register factory for plugin cuFFT when one has already been registered\n",
      "2025-02-11 03:36:31.582643: E external/local_xla/xla/stream_executor/cuda/cuda_blas.cc:1515] Unable to register cuBLAS factory: Attempting to register factory for plugin cuBLAS when one has already been registered\n"
     ]
    }
   ],
   "source": [
    "import matplotlib.pyplot as plt\n",
    "import numpy as np\n",
    "import pandas as pd\n",
    "import seaborn as sns\n",
    "import tensorflow as tf\n",
    "from tensorflow.keras.models import Sequential\n",
    "from tensorflow.keras.layers import Dense\n",
    "from tensorflow.keras.layers import Dropout\n",
    "from keras.models import load_model"
   ]
  },
  {
   "cell_type": "code",
   "execution_count": 2,
   "id": "c46d7524",
   "metadata": {
    "execution": {
     "iopub.execute_input": "2025-02-11T03:36:42.777063Z",
     "iopub.status.busy": "2025-02-11T03:36:42.776037Z",
     "iopub.status.idle": "2025-02-11T03:36:42.833204Z",
     "shell.execute_reply": "2025-02-11T03:36:42.831967Z"
    },
    "papermill": {
     "duration": 0.06403,
     "end_time": "2025-02-11T03:36:42.835346",
     "exception": false,
     "start_time": "2025-02-11T03:36:42.771316",
     "status": "completed"
    },
    "tags": []
   },
   "outputs": [
    {
     "name": "stdout",
     "output_type": "stream",
     "text": [
      "             SPEED        GLIDE         TURN         FADE    STABILITY  \\\n",
      "count  1175.000000  1175.000000  1175.000000  1175.000000  1175.000000   \n",
      "mean      6.985532     4.291064    -0.839574     2.014894     1.173617   \n",
      "std       3.676466     1.110181     1.122030     1.133728     1.890662   \n",
      "min       1.000000     0.000000    -5.000000     0.000000    -4.000000   \n",
      "25%       4.000000     4.000000    -1.000000     1.000000     0.000000   \n",
      "50%       7.000000     4.500000    -0.500000     2.000000     1.000000   \n",
      "75%      10.000000     5.000000     0.000000     3.000000     2.500000   \n",
      "max      14.500000     7.000000     2.000000     6.000000     7.000000   \n",
      "\n",
      "       DIAMETER (cm)  HEIGHT (cm)  RIM DEPTH (cm)  RIM WIDTH (cm)  \\\n",
      "count    1175.000000  1175.000000     1175.000000     1175.000000   \n",
      "mean       21.297191     1.811830        1.259574        1.647574   \n",
      "std         0.330815     0.229446        0.152016        0.480834   \n",
      "min        21.000000     1.300000        1.100000        0.600000   \n",
      "25%        21.100000     1.700000        1.100000        1.200000   \n",
      "50%        21.200000     1.800000        1.200000        1.700000   \n",
      "75%        21.400000     2.000000        1.400000        2.000000   \n",
      "max        24.200000     2.900000        2.300000        2.600000   \n",
      "\n",
      "       INSIDE RIM DIAMETER (cm)  RIM DEPTH / DIAMETER RATION (%)  \\\n",
      "count                1175.00000                      1175.000000   \n",
      "mean                   17.99166                         5.915830   \n",
      "std                     1.10516                         0.701401   \n",
      "min                    15.90000                         5.000000   \n",
      "25%                    17.10000                         5.200000   \n",
      "50%                    17.80000                         5.700000   \n",
      "75%                    19.00000                         6.400000   \n",
      "max                    22.80000                         9.700000   \n",
      "\n",
      "       RIM CONFIGURATION  \n",
      "count        1175.000000  \n",
      "mean           40.627328  \n",
      "std            14.468409  \n",
      "min            26.000000  \n",
      "25%            29.000000  \n",
      "50%            34.000000  \n",
      "75%            49.750000  \n",
      "max            98.250000  \n"
     ]
    }
   ],
   "source": [
    "csv = '/kaggle/input/disc-golf-disc-flight-numbers-and-dimensions/disc-data.csv'\n",
    "df = pd.read_csv(csv)\n",
    "df['MOLD'] = df['MOLD'].str.replace('\\n', '')\n",
    "print(df.describe())"
   ]
  },
  {
   "cell_type": "code",
   "execution_count": 3,
   "id": "faf4179c",
   "metadata": {
    "execution": {
     "iopub.execute_input": "2025-02-11T03:36:42.843823Z",
     "iopub.status.busy": "2025-02-11T03:36:42.843428Z",
     "iopub.status.idle": "2025-02-11T03:36:42.874483Z",
     "shell.execute_reply": "2025-02-11T03:36:42.873290Z"
    },
    "papermill": {
     "duration": 0.038432,
     "end_time": "2025-02-11T03:36:42.877210",
     "exception": false,
     "start_time": "2025-02-11T03:36:42.838778",
     "status": "completed"
    },
    "tags": []
   },
   "outputs": [
    {
     "name": "stdout",
     "output_type": "stream",
     "text": [
      "(1175, 15)\n",
      "(1175, 11)\n",
      "(1175, 4)\n",
      "            MOLD        DISC TYPE  STABILITY  DIAMETER (cm)  HEIGHT (cm)  \\\n",
      "0      Armadillo  Putt & Approach        1.0           21.3          1.9   \n",
      "1         Beetle  Putt & Approach       -1.0           21.9          2.2   \n",
      "2           Berg  Putt & Approach        2.0           21.1          2.0   \n",
      "3         Birdie  Putt & Approach        0.0           21.2          2.4   \n",
      "4          Claws  Putt & Approach        0.5           21.2          2.0   \n",
      "...          ...              ...        ...            ...          ...   \n",
      "1170    Delirium  Distance Driver        2.5           21.1          1.8   \n",
      "1171   Dimension  Distance Driver        3.0           21.0          1.8   \n",
      "1172      Excite  Distance Driver        0.0           21.1          2.1   \n",
      "1173       Limit  Distance Driver        4.0           21.1          1.8   \n",
      "1174  Relativity  Distance Driver       -1.5           21.1          1.9   \n",
      "\n",
      "      RIM DEPTH (cm)  RIM WIDTH (cm)  INSIDE RIM DIAMETER (cm)  \\\n",
      "0                1.4             0.8                      19.6   \n",
      "1                1.6             0.8                      20.3   \n",
      "2                1.4             0.9                      19.3   \n",
      "3                1.9             0.7                      19.8   \n",
      "4                1.7             0.9                      19.4   \n",
      "...              ...             ...                       ...   \n",
      "1170             1.2             2.5                      16.0   \n",
      "1171             1.2             2.5                      16.0   \n",
      "1172             1.2             2.5                      15.9   \n",
      "1173             1.2             2.5                      16.0   \n",
      "1174             1.2             2.5                      16.0   \n",
      "\n",
      "      RIM DEPTH / DIAMETER RATION (%)  RIM CONFIGURATION  BEAD  \n",
      "0                                 6.6              90.75     0  \n",
      "1                                 7.3              89.25     0  \n",
      "2                                 6.6              87.00     0  \n",
      "3                                 9.0              98.25     0  \n",
      "4                                 8.0              85.00     0  \n",
      "...                               ...                ...   ...  \n",
      "1170                              5.7              27.00     0  \n",
      "1171                              5.7              27.75     0  \n",
      "1172                              5.7              27.00     0  \n",
      "1173                              5.7              27.25     0  \n",
      "1174                              5.7              27.25     0  \n",
      "\n",
      "[1175 rows x 11 columns]\n"
     ]
    },
    {
     "name": "stderr",
     "output_type": "stream",
     "text": [
      "/tmp/ipykernel_17/3062733839.py:3: FutureWarning: Downcasting behavior in `replace` is deprecated and will be removed in a future version. To retain the old behavior, explicitly call `result.infer_objects(copy=False)`. To opt-in to the future behavior, set `pd.set_option('future.no_silent_downcasting', True)`\n",
      "  df[['BEAD']] = df[['BEAD']].replace('Yes',1)\n"
     ]
    }
   ],
   "source": [
    "print(df.shape)\n",
    "df[['BEAD']] = df[['BEAD']].replace('No',0)\n",
    "df[['BEAD']] = df[['BEAD']].replace('Yes',1)\n",
    "Y = df[[\"SPEED\", \"GLIDE\", \"TURN\", \"FADE\"]]\n",
    "X = df.loc[:,~df.columns.isin([\"SPEED\", \"GLIDE\", \"TURN\", \"FADE\"])]\n",
    "print(X.shape)\n",
    "print(Y.shape)\n",
    "print(X)"
   ]
  },
  {
   "cell_type": "code",
   "execution_count": 4,
   "id": "410f6587",
   "metadata": {
    "execution": {
     "iopub.execute_input": "2025-02-11T03:36:42.887363Z",
     "iopub.status.busy": "2025-02-11T03:36:42.886288Z",
     "iopub.status.idle": "2025-02-11T03:36:42.904321Z",
     "shell.execute_reply": "2025-02-11T03:36:42.902840Z"
    },
    "papermill": {
     "duration": 0.025718,
     "end_time": "2025-02-11T03:36:42.906686",
     "exception": false,
     "start_time": "2025-02-11T03:36:42.880968",
     "status": "completed"
    },
    "tags": []
   },
   "outputs": [
    {
     "name": "stdout",
     "output_type": "stream",
     "text": [
      "Shape of X_train: (940, 11)\n",
      "Shape of Y_train: (940, 4)\n",
      "Shape of X_validation: (117, 11)\n",
      "Shape of Y_validation: (117, 4)\n",
      "Shape of X_test: (118, 11)\n",
      "Shape of Y_test: (118, 4)\n"
     ]
    }
   ],
   "source": [
    "# Calculate the number of rows for each split\n",
    "total_rows = df.shape[0]\n",
    "train_rows = int(0.8 * total_rows)\n",
    "validation_rows = int(0.1 * total_rows)\n",
    "test_rows = total_rows - train_rows - validation_rows\n",
    "\n",
    "# Generate random indices for splitting\n",
    "indices = np.arange(total_rows)\n",
    "np.random.shuffle(indices)\n",
    "\n",
    "# Split the indices\n",
    "train_indices = indices[:train_rows]\n",
    "validation_indices = indices[train_rows:train_rows + validation_rows]\n",
    "test_indices = indices[train_rows + validation_rows:]\n",
    "\n",
    "# Create new arrays based on the indices\n",
    "X_train = X.loc[train_indices, :]\n",
    "Y_train = Y.loc[train_indices, :]\n",
    "X_validation = X.loc[validation_indices, :]\n",
    "Y_validation = Y.loc[validation_indices, :]\n",
    "X_test = X.loc[test_indices, :]\n",
    "Y_test = Y.loc[test_indices]\n",
    "\n",
    "# Verify the shapes of the new arrays\n",
    "print(\"Shape of X_train:\", X_train.shape)\n",
    "print(\"Shape of Y_train:\", Y_train.shape)\n",
    "print(\"Shape of X_validation:\", X_validation.shape)\n",
    "print(\"Shape of Y_validation:\", Y_validation.shape)\n",
    "print(\"Shape of X_test:\", X_test.shape)\n",
    "print(\"Shape of Y_test:\", Y_test.shape)\n",
    "\n",
    "X_train = X_train.loc[:,~X_train.columns.isin([\"MOLD\", \"DISC TYPE\"])]\n",
    "X_validation = X_validation.loc[:,~X_validation.columns.isin([\"MOLD\", \"DISC TYPE\"])]\n",
    "X_test = X_test.loc[:,~X_test.columns.isin([\"MOLD\", \"DISC TYPE\"])]\n",
    "\n",
    "X_train = np.array(X_train)\n",
    "Y_train = np.array(Y_train)\n",
    "X_validation = np.array(X_validation)\n",
    "Y_validation = np.array(Y_validation)\n",
    "X_test = np.array(X_test)\n",
    "Y_test = np.array(Y_test)"
   ]
  },
  {
   "cell_type": "code",
   "execution_count": 5,
   "id": "e2157238",
   "metadata": {
    "execution": {
     "iopub.execute_input": "2025-02-11T03:36:42.916171Z",
     "iopub.status.busy": "2025-02-11T03:36:42.915765Z",
     "iopub.status.idle": "2025-02-11T03:36:43.017040Z",
     "shell.execute_reply": "2025-02-11T03:36:43.015919Z"
    },
    "papermill": {
     "duration": 0.108874,
     "end_time": "2025-02-11T03:36:43.019396",
     "exception": false,
     "start_time": "2025-02-11T03:36:42.910522",
     "status": "completed"
    },
    "tags": []
   },
   "outputs": [
    {
     "name": "stdout",
     "output_type": "stream",
     "text": [
      "Diameter Max, Min pre normalization: 24.20, 21.00\n",
      "Inside Rim Diameter Max, Min pre normalization: 22.80, 15.90\n",
      "Rim Depth/Diameter Ratio Max, Min pre normalization: 9.70, 5.00\n",
      "Rim Configuration Max, Min pre normalization: 92.75, 26.00\n",
      "Diameter Max, Min post normalization: 8.42, -0.89\n",
      "Inside Rim Diameter Max, Min post normalization: 4.37, -1.91\n",
      "Rim Depth/Diameter Ratio Max, Min post normalization: 5.46, -1.32\n",
      "Rim Configuration Max, Min post normalization: 3.65, -1.02\n"
     ]
    }
   ],
   "source": [
    "X_train = np.array(X_train)\n",
    "X_validation = np.array(X_validation)\n",
    "X_test = np.array(X_test)\n",
    "\n",
    "print(f\"Diameter Max, Min pre normalization: {np.max(X_train[0:,1]):0.2f}, {np.min(X_train[:,1]):0.2f}\")\n",
    "print(f\"Inside Rim Diameter Max, Min pre normalization: {np.max(X_train[:,5]):0.2f}, {np.min(X_train[:,5]):0.2f}\")\n",
    "print(f\"Rim Depth/Diameter Ratio Max, Min pre normalization: {np.max(X_train[:,6]):0.2f}, {np.min(X_train[:,6]):0.2f}\")\n",
    "print(f\"Rim Configuration Max, Min pre normalization: {np.max(X_train[:,7]):0.2f}, {np.min(X_train[:,7]):0.2f}\")\n",
    "\n",
    "norm_l = tf.keras.layers.Normalization(axis=-1)\n",
    "norm_2 = tf.keras.layers.Normalization(axis=-1)\n",
    "norm_3 = tf.keras.layers.Normalization(axis=-1)\n",
    "norm_l.adapt(X_train)  # learns mean, variance\n",
    "norm_2.adapt(X_validation)\n",
    "norm_3.adapt(X_test)\n",
    "X_train_n = norm_l(X_train)\n",
    "X_validation_n = norm_2(X_validation)\n",
    "X_test_n = norm_3(X_test)\n",
    "\n",
    "print(f\"Diameter Max, Min post normalization: {np.max(X_train_n[0:,1]):0.2f}, {np.min(X_train_n[:,1]):0.2f}\")\n",
    "print(f\"Inside Rim Diameter Max, Min post normalization: {np.max(X_train_n[:,5]):0.2f}, {np.min(X_train_n[:,5]):0.2f}\")\n",
    "print(f\"Rim Depth/Diameter Ratio Max, Min post normalization: {np.max(X_train_n[:,6]):0.2f}, {np.min(X_train_n[:,6]):0.2f}\")\n",
    "print(f\"Rim Configuration Max, Min post normalization: {np.max(X_train_n[:,7]):0.2f}, {np.min(X_train_n[:,7]):0.2f}\")\n"
   ]
  },
  {
   "cell_type": "code",
   "execution_count": 6,
   "id": "97563831",
   "metadata": {
    "execution": {
     "iopub.execute_input": "2025-02-11T03:36:43.029700Z",
     "iopub.status.busy": "2025-02-11T03:36:43.028897Z",
     "iopub.status.idle": "2025-02-11T03:36:43.048050Z",
     "shell.execute_reply": "2025-02-11T03:36:43.047005Z"
    },
    "papermill": {
     "duration": 0.027071,
     "end_time": "2025-02-11T03:36:43.050489",
     "exception": false,
     "start_time": "2025-02-11T03:36:43.023418",
     "status": "completed"
    },
    "tags": []
   },
   "outputs": [],
   "source": [
    "tf.random.set_seed(1234)  # applied to achieve consistent results\n",
    "model = Sequential(\n",
    "    [\n",
    "        Dense(10, activation='relu', name = 'layer1'),\n",
    "        Dropout(0.2),\n",
    "        Dense(9, activation='relu', name = 'layer2'),\n",
    "        Dropout(0.4),\n",
    "        Dense(4, activation='relu', name = 'layer3')\n",
    "\n",
    "     ]\n",
    ")"
   ]
  },
  {
   "cell_type": "code",
   "execution_count": 7,
   "id": "cceb1bdc",
   "metadata": {
    "collapsed": true,
    "execution": {
     "iopub.execute_input": "2025-02-11T03:36:43.059943Z",
     "iopub.status.busy": "2025-02-11T03:36:43.059593Z",
     "iopub.status.idle": "2025-02-11T03:37:03.540906Z",
     "shell.execute_reply": "2025-02-11T03:37:03.539790Z"
    },
    "jupyter": {
     "outputs_hidden": true
    },
    "papermill": {
     "duration": 20.488436,
     "end_time": "2025-02-11T03:37:03.543148",
     "exception": false,
     "start_time": "2025-02-11T03:36:43.054712",
     "status": "completed"
    },
    "tags": []
   },
   "outputs": [
    {
     "name": "stdout",
     "output_type": "stream",
     "text": [
      "Epoch 1/200\n",
      "30/30 - 2s - 52ms/step - loss: 21.3970 - mse: 21.3491 - val_loss: 21.8435 - val_mse: 21.2937\n",
      "Epoch 2/200\n",
      "30/30 - 0s - 3ms/step - loss: 21.2318 - mse: 21.1715 - val_loss: 21.6561 - val_mse: 21.1095\n",
      "Epoch 3/200\n",
      "30/30 - 0s - 3ms/step - loss: 21.0570 - mse: 21.0025 - val_loss: 21.4574 - val_mse: 20.9140\n",
      "Epoch 4/200\n",
      "30/30 - 0s - 3ms/step - loss: 20.8351 - mse: 20.7770 - val_loss: 21.2457 - val_mse: 20.7056\n",
      "Epoch 5/200\n",
      "30/30 - 0s - 3ms/step - loss: 20.5904 - mse: 20.5288 - val_loss: 21.0209 - val_mse: 20.4842\n",
      "Epoch 6/200\n",
      "30/30 - 0s - 3ms/step - loss: 20.3800 - mse: 20.3203 - val_loss: 20.7891 - val_mse: 20.2561\n",
      "Epoch 7/200\n",
      "30/30 - 0s - 3ms/step - loss: 20.1452 - mse: 20.0851 - val_loss: 20.5435 - val_mse: 20.0140\n",
      "Epoch 8/200\n",
      "30/30 - 0s - 3ms/step - loss: 19.9139 - mse: 19.8577 - val_loss: 20.2824 - val_mse: 19.7561\n",
      "Epoch 9/200\n",
      "30/30 - 0s - 3ms/step - loss: 19.5083 - mse: 19.4714 - val_loss: 20.0095 - val_mse: 19.4866\n",
      "Epoch 10/200\n",
      "30/30 - 0s - 3ms/step - loss: 19.3568 - mse: 19.2961 - val_loss: 19.7252 - val_mse: 19.2048\n",
      "Epoch 11/200\n",
      "30/30 - 0s - 3ms/step - loss: 18.9511 - mse: 18.8965 - val_loss: 19.3932 - val_mse: 18.8720\n",
      "Epoch 12/200\n",
      "30/30 - 0s - 3ms/step - loss: 18.6943 - mse: 18.6296 - val_loss: 18.9040 - val_mse: 18.3870\n",
      "Epoch 13/200\n",
      "30/30 - 0s - 3ms/step - loss: 18.0511 - mse: 17.9825 - val_loss: 17.9751 - val_mse: 17.4785\n",
      "Epoch 14/200\n",
      "30/30 - 0s - 3ms/step - loss: 17.1357 - mse: 17.0806 - val_loss: 16.7582 - val_mse: 16.2934\n",
      "Epoch 15/200\n",
      "30/30 - 0s - 3ms/step - loss: 16.1075 - mse: 16.0691 - val_loss: 15.3262 - val_mse: 14.9001\n",
      "Epoch 16/200\n",
      "30/30 - 0s - 3ms/step - loss: 15.0767 - mse: 14.9953 - val_loss: 13.6988 - val_mse: 13.3190\n",
      "Epoch 17/200\n",
      "30/30 - 0s - 3ms/step - loss: 13.9754 - mse: 13.8971 - val_loss: 11.9460 - val_mse: 11.6135\n",
      "Epoch 18/200\n",
      "30/30 - 0s - 3ms/step - loss: 11.8098 - mse: 11.7642 - val_loss: 10.1034 - val_mse: 9.8227\n",
      "Epoch 19/200\n",
      "30/30 - 0s - 3ms/step - loss: 11.0160 - mse: 11.0383 - val_loss: 8.4839 - val_mse: 8.2539\n",
      "Epoch 20/200\n",
      "30/30 - 0s - 3ms/step - loss: 9.7645 - mse: 9.7425 - val_loss: 7.0794 - val_mse: 6.8948\n",
      "Epoch 21/200\n",
      "30/30 - 0s - 3ms/step - loss: 9.0672 - mse: 9.1090 - val_loss: 6.0708 - val_mse: 5.9187\n",
      "Epoch 22/200\n",
      "30/30 - 0s - 3ms/step - loss: 8.2447 - mse: 8.2314 - val_loss: 5.4024 - val_mse: 5.2718\n",
      "Epoch 23/200\n",
      "30/30 - 0s - 3ms/step - loss: 8.2008 - mse: 8.1843 - val_loss: 4.9043 - val_mse: 4.7893\n",
      "Epoch 24/200\n",
      "30/30 - 0s - 3ms/step - loss: 7.8734 - mse: 7.7985 - val_loss: 4.5993 - val_mse: 4.4942\n",
      "Epoch 25/200\n",
      "30/30 - 0s - 3ms/step - loss: 7.6357 - mse: 7.6234 - val_loss: 4.4569 - val_mse: 4.3563\n",
      "Epoch 26/200\n",
      "30/30 - 0s - 3ms/step - loss: 7.5984 - mse: 7.5526 - val_loss: 4.2024 - val_mse: 4.1107\n",
      "Epoch 27/200\n",
      "30/30 - 0s - 3ms/step - loss: 7.7470 - mse: 7.7476 - val_loss: 4.0614 - val_mse: 3.9744\n",
      "Epoch 28/200\n",
      "30/30 - 0s - 3ms/step - loss: 7.0543 - mse: 7.0668 - val_loss: 4.0429 - val_mse: 3.9570\n",
      "Epoch 29/200\n",
      "30/30 - 0s - 3ms/step - loss: 7.2309 - mse: 7.2524 - val_loss: 3.9756 - val_mse: 3.8916\n",
      "Epoch 30/200\n",
      "30/30 - 0s - 3ms/step - loss: 7.1436 - mse: 7.0988 - val_loss: 3.9225 - val_mse: 3.8399\n",
      "Epoch 31/200\n",
      "30/30 - 0s - 3ms/step - loss: 6.7114 - mse: 6.7393 - val_loss: 3.8466 - val_mse: 3.7662\n",
      "Epoch 32/200\n",
      "30/30 - 0s - 3ms/step - loss: 7.1183 - mse: 7.1088 - val_loss: 3.7518 - val_mse: 3.6743\n",
      "Epoch 33/200\n",
      "30/30 - 0s - 3ms/step - loss: 6.8997 - mse: 6.8007 - val_loss: 3.7457 - val_mse: 3.6684\n",
      "Epoch 34/200\n",
      "30/30 - 0s - 3ms/step - loss: 7.0958 - mse: 7.0953 - val_loss: 3.6697 - val_mse: 3.5942\n",
      "Epoch 35/200\n",
      "30/30 - 0s - 3ms/step - loss: 6.7860 - mse: 6.7383 - val_loss: 3.6202 - val_mse: 3.5461\n",
      "Epoch 36/200\n",
      "30/30 - 0s - 3ms/step - loss: 7.0720 - mse: 7.0953 - val_loss: 3.5786 - val_mse: 3.5059\n",
      "Epoch 37/200\n",
      "30/30 - 0s - 3ms/step - loss: 6.3215 - mse: 6.3668 - val_loss: 3.5059 - val_mse: 3.4352\n",
      "Epoch 38/200\n",
      "30/30 - 0s - 3ms/step - loss: 6.4203 - mse: 6.4573 - val_loss: 3.4615 - val_mse: 3.3923\n",
      "Epoch 39/200\n",
      "30/30 - 0s - 3ms/step - loss: 6.5235 - mse: 6.5309 - val_loss: 3.4467 - val_mse: 3.3778\n",
      "Epoch 40/200\n",
      "30/30 - 0s - 3ms/step - loss: 6.5749 - mse: 6.4990 - val_loss: 3.3730 - val_mse: 3.3061\n",
      "Epoch 41/200\n",
      "30/30 - 0s - 3ms/step - loss: 6.5510 - mse: 6.5086 - val_loss: 3.3669 - val_mse: 3.3001\n",
      "Epoch 42/200\n",
      "30/30 - 0s - 3ms/step - loss: 6.6089 - mse: 6.5788 - val_loss: 3.3129 - val_mse: 3.2475\n",
      "Epoch 43/200\n",
      "30/30 - 0s - 3ms/step - loss: 6.7314 - mse: 6.6685 - val_loss: 3.3141 - val_mse: 3.2481\n",
      "Epoch 44/200\n",
      "30/30 - 0s - 3ms/step - loss: 6.0815 - mse: 6.0135 - val_loss: 3.2707 - val_mse: 3.2059\n",
      "Epoch 45/200\n",
      "30/30 - 0s - 3ms/step - loss: 6.4428 - mse: 6.4321 - val_loss: 3.1717 - val_mse: 3.1094\n",
      "Epoch 46/200\n",
      "30/30 - 0s - 3ms/step - loss: 6.0534 - mse: 5.9768 - val_loss: 3.1519 - val_mse: 3.0899\n",
      "Epoch 47/200\n",
      "30/30 - 0s - 4ms/step - loss: 5.8675 - mse: 5.8732 - val_loss: 3.0813 - val_mse: 3.0210\n",
      "Epoch 48/200\n",
      "30/30 - 0s - 3ms/step - loss: 5.9429 - mse: 5.9018 - val_loss: 3.0960 - val_mse: 3.0347\n",
      "Epoch 49/200\n",
      "30/30 - 0s - 3ms/step - loss: 6.0462 - mse: 6.0343 - val_loss: 3.0359 - val_mse: 2.9756\n",
      "Epoch 50/200\n",
      "30/30 - 0s - 3ms/step - loss: 6.0169 - mse: 6.0072 - val_loss: 2.9987 - val_mse: 2.9392\n",
      "Epoch 51/200\n",
      "30/30 - 0s - 3ms/step - loss: 5.6837 - mse: 5.7170 - val_loss: 2.9759 - val_mse: 2.9166\n",
      "Epoch 52/200\n",
      "30/30 - 0s - 4ms/step - loss: 5.7740 - mse: 5.7375 - val_loss: 2.9071 - val_mse: 2.8491\n",
      "Epoch 53/200\n",
      "30/30 - 0s - 3ms/step - loss: 5.5675 - mse: 5.5665 - val_loss: 2.8365 - val_mse: 2.7797\n",
      "Epoch 54/200\n",
      "30/30 - 0s - 4ms/step - loss: 5.6562 - mse: 5.6234 - val_loss: 2.7969 - val_mse: 2.7405\n",
      "Epoch 55/200\n",
      "30/30 - 0s - 3ms/step - loss: 5.7232 - mse: 5.6493 - val_loss: 2.8087 - val_mse: 2.7513\n",
      "Epoch 56/200\n",
      "30/30 - 0s - 3ms/step - loss: 5.6858 - mse: 5.6595 - val_loss: 2.7592 - val_mse: 2.7025\n",
      "Epoch 57/200\n",
      "30/30 - 0s - 3ms/step - loss: 5.6237 - mse: 5.5952 - val_loss: 2.7323 - val_mse: 2.6757\n",
      "Epoch 58/200\n",
      "30/30 - 0s - 3ms/step - loss: 5.6558 - mse: 5.6759 - val_loss: 2.6923 - val_mse: 2.6365\n",
      "Epoch 59/200\n",
      "30/30 - 0s - 3ms/step - loss: 5.5319 - mse: 5.5098 - val_loss: 2.6684 - val_mse: 2.6125\n",
      "Epoch 60/200\n",
      "30/30 - 0s - 3ms/step - loss: 5.4179 - mse: 5.4183 - val_loss: 2.6129 - val_mse: 2.5580\n",
      "Epoch 61/200\n",
      "30/30 - 0s - 3ms/step - loss: 5.2762 - mse: 5.3128 - val_loss: 2.5938 - val_mse: 2.5389\n",
      "Epoch 62/200\n",
      "30/30 - 0s - 3ms/step - loss: 5.5665 - mse: 5.5579 - val_loss: 2.5383 - val_mse: 2.4845\n",
      "Epoch 63/200\n",
      "30/30 - 0s - 3ms/step - loss: 5.0885 - mse: 5.0538 - val_loss: 2.5082 - val_mse: 2.4548\n",
      "Epoch 64/200\n",
      "30/30 - 0s - 3ms/step - loss: 5.4054 - mse: 5.3739 - val_loss: 2.4658 - val_mse: 2.4135\n",
      "Epoch 65/200\n",
      "30/30 - 0s - 3ms/step - loss: 4.8599 - mse: 4.8374 - val_loss: 2.4292 - val_mse: 2.3777\n",
      "Epoch 66/200\n",
      "30/30 - 0s - 3ms/step - loss: 4.8699 - mse: 4.8540 - val_loss: 2.4260 - val_mse: 2.3743\n",
      "Epoch 67/200\n",
      "30/30 - 0s - 3ms/step - loss: 4.8994 - mse: 4.9291 - val_loss: 2.4128 - val_mse: 2.3614\n",
      "Epoch 68/200\n",
      "30/30 - 0s - 3ms/step - loss: 5.1498 - mse: 5.1460 - val_loss: 2.3646 - val_mse: 2.3146\n",
      "Epoch 69/200\n",
      "30/30 - 0s - 3ms/step - loss: 5.1305 - mse: 5.0961 - val_loss: 2.3545 - val_mse: 2.3046\n",
      "Epoch 70/200\n",
      "30/30 - 0s - 3ms/step - loss: 5.1247 - mse: 5.1461 - val_loss: 2.2954 - val_mse: 2.2472\n",
      "Epoch 71/200\n",
      "30/30 - 0s - 3ms/step - loss: 4.8609 - mse: 4.8267 - val_loss: 2.2508 - val_mse: 2.2039\n",
      "Epoch 72/200\n",
      "30/30 - 0s - 3ms/step - loss: 4.7426 - mse: 4.7605 - val_loss: 2.2269 - val_mse: 2.1808\n",
      "Epoch 73/200\n",
      "30/30 - 0s - 3ms/step - loss: 4.7542 - mse: 4.7412 - val_loss: 2.2266 - val_mse: 2.1806\n",
      "Epoch 74/200\n",
      "30/30 - 0s - 3ms/step - loss: 4.6538 - mse: 4.6457 - val_loss: 2.2186 - val_mse: 2.1728\n",
      "Epoch 75/200\n",
      "30/30 - 0s - 3ms/step - loss: 4.5509 - mse: 4.5517 - val_loss: 2.2121 - val_mse: 2.1666\n",
      "Epoch 76/200\n",
      "30/30 - 0s - 3ms/step - loss: 4.7308 - mse: 4.7753 - val_loss: 2.1825 - val_mse: 2.1380\n",
      "Epoch 77/200\n",
      "30/30 - 0s - 3ms/step - loss: 4.5274 - mse: 4.5376 - val_loss: 2.1554 - val_mse: 2.1118\n",
      "Epoch 78/200\n",
      "30/30 - 0s - 3ms/step - loss: 4.6907 - mse: 4.7266 - val_loss: 2.1191 - val_mse: 2.0767\n",
      "Epoch 79/200\n",
      "30/30 - 0s - 3ms/step - loss: 4.7862 - mse: 4.7247 - val_loss: 2.1521 - val_mse: 2.1086\n",
      "Epoch 80/200\n",
      "30/30 - 0s - 3ms/step - loss: 4.7638 - mse: 4.6607 - val_loss: 2.1139 - val_mse: 2.0716\n",
      "Epoch 81/200\n",
      "30/30 - 0s - 3ms/step - loss: 4.6354 - mse: 4.6335 - val_loss: 2.1043 - val_mse: 2.0626\n",
      "Epoch 82/200\n",
      "30/30 - 0s - 3ms/step - loss: 4.4368 - mse: 4.4407 - val_loss: 2.1278 - val_mse: 2.0853\n",
      "Epoch 83/200\n",
      "30/30 - 0s - 3ms/step - loss: 4.4741 - mse: 4.4727 - val_loss: 2.0937 - val_mse: 2.0521\n",
      "Epoch 84/200\n",
      "30/30 - 0s - 3ms/step - loss: 4.1981 - mse: 4.1519 - val_loss: 2.1089 - val_mse: 2.0668\n",
      "Epoch 85/200\n",
      "30/30 - 0s - 3ms/step - loss: 4.4618 - mse: 4.4521 - val_loss: 2.0805 - val_mse: 2.0393\n",
      "Epoch 86/200\n",
      "30/30 - 0s - 3ms/step - loss: 4.2889 - mse: 4.3129 - val_loss: 2.0819 - val_mse: 2.0406\n",
      "Epoch 87/200\n",
      "30/30 - 0s - 3ms/step - loss: 4.1826 - mse: 4.2111 - val_loss: 2.0673 - val_mse: 2.0267\n",
      "Epoch 88/200\n",
      "30/30 - 0s - 3ms/step - loss: 4.2644 - mse: 4.2585 - val_loss: 2.0466 - val_mse: 2.0066\n",
      "Epoch 89/200\n",
      "30/30 - 0s - 3ms/step - loss: 4.3096 - mse: 4.2950 - val_loss: 2.0224 - val_mse: 1.9831\n",
      "Epoch 90/200\n",
      "30/30 - 0s - 3ms/step - loss: 4.4071 - mse: 4.4184 - val_loss: 2.0060 - val_mse: 1.9673\n",
      "Epoch 91/200\n",
      "30/30 - 0s - 3ms/step - loss: 4.1574 - mse: 4.1599 - val_loss: 1.9663 - val_mse: 1.9288\n",
      "Epoch 92/200\n",
      "30/30 - 0s - 3ms/step - loss: 4.0848 - mse: 4.0704 - val_loss: 1.9320 - val_mse: 1.8957\n",
      "Epoch 93/200\n",
      "30/30 - 0s - 3ms/step - loss: 4.1283 - mse: 4.1454 - val_loss: 1.9283 - val_mse: 1.8922\n",
      "Epoch 94/200\n",
      "30/30 - 0s - 3ms/step - loss: 4.1275 - mse: 4.1160 - val_loss: 1.9440 - val_mse: 1.9074\n",
      "Epoch 95/200\n",
      "30/30 - 0s - 3ms/step - loss: 4.1813 - mse: 4.1262 - val_loss: 1.9358 - val_mse: 1.8995\n",
      "Epoch 96/200\n",
      "30/30 - 0s - 3ms/step - loss: 4.2975 - mse: 4.3436 - val_loss: 1.9316 - val_mse: 1.8955\n",
      "Epoch 97/200\n",
      "30/30 - 0s - 3ms/step - loss: 4.0138 - mse: 4.0484 - val_loss: 1.8877 - val_mse: 1.8529\n",
      "Epoch 98/200\n",
      "30/30 - 0s - 3ms/step - loss: 4.0068 - mse: 4.0007 - val_loss: 1.8639 - val_mse: 1.8298\n",
      "Epoch 99/200\n",
      "30/30 - 0s - 3ms/step - loss: 4.0890 - mse: 4.0721 - val_loss: 1.8768 - val_mse: 1.8421\n",
      "Epoch 100/200\n",
      "30/30 - 0s - 3ms/step - loss: 3.9118 - mse: 3.9148 - val_loss: 1.9031 - val_mse: 1.8673\n",
      "Epoch 101/200\n",
      "30/30 - 0s - 3ms/step - loss: 4.1002 - mse: 4.0816 - val_loss: 1.8975 - val_mse: 1.8620\n",
      "Epoch 102/200\n",
      "30/30 - 0s - 3ms/step - loss: 4.1195 - mse: 4.1053 - val_loss: 1.8721 - val_mse: 1.8371\n",
      "Epoch 103/200\n",
      "30/30 - 0s - 3ms/step - loss: 3.7254 - mse: 3.7294 - val_loss: 1.8786 - val_mse: 1.8434\n",
      "Epoch 104/200\n",
      "30/30 - 0s - 3ms/step - loss: 3.7460 - mse: 3.7171 - val_loss: 1.8806 - val_mse: 1.8452\n",
      "Epoch 105/200\n",
      "30/30 - 0s - 3ms/step - loss: 3.9652 - mse: 3.9805 - val_loss: 1.8801 - val_mse: 1.8447\n",
      "Epoch 106/200\n",
      "30/30 - 0s - 3ms/step - loss: 4.0817 - mse: 4.0416 - val_loss: 1.9013 - val_mse: 1.8652\n",
      "Epoch 107/200\n",
      "30/30 - 0s - 3ms/step - loss: 3.7041 - mse: 3.7063 - val_loss: 1.9050 - val_mse: 1.8687\n",
      "Epoch 108/200\n",
      "30/30 - 0s - 3ms/step - loss: 3.8444 - mse: 3.8691 - val_loss: 1.8728 - val_mse: 1.8375\n",
      "Epoch 109/200\n",
      "30/30 - 0s - 3ms/step - loss: 3.6253 - mse: 3.6291 - val_loss: 1.8763 - val_mse: 1.8409\n",
      "Epoch 110/200\n",
      "30/30 - 0s - 3ms/step - loss: 3.8553 - mse: 3.8588 - val_loss: 1.8784 - val_mse: 1.8428\n",
      "Epoch 111/200\n",
      "30/30 - 0s - 3ms/step - loss: 3.8462 - mse: 3.8193 - val_loss: 1.8731 - val_mse: 1.8377\n",
      "Epoch 112/200\n",
      "30/30 - 0s - 3ms/step - loss: 3.8664 - mse: 3.8568 - val_loss: 1.8557 - val_mse: 1.8206\n",
      "Epoch 113/200\n",
      "30/30 - 0s - 3ms/step - loss: 3.5914 - mse: 3.6130 - val_loss: 1.8440 - val_mse: 1.8091\n",
      "Epoch 114/200\n",
      "30/30 - 0s - 3ms/step - loss: 3.7227 - mse: 3.7327 - val_loss: 1.7963 - val_mse: 1.7629\n",
      "Epoch 115/200\n",
      "30/30 - 0s - 3ms/step - loss: 3.6522 - mse: 3.6710 - val_loss: 1.7913 - val_mse: 1.7579\n",
      "Epoch 116/200\n",
      "30/30 - 0s - 3ms/step - loss: 3.7644 - mse: 3.7653 - val_loss: 1.7778 - val_mse: 1.7447\n",
      "Epoch 117/200\n",
      "30/30 - 0s - 3ms/step - loss: 3.6046 - mse: 3.6028 - val_loss: 1.7774 - val_mse: 1.7444\n",
      "Epoch 118/200\n",
      "30/30 - 0s - 3ms/step - loss: 3.7170 - mse: 3.7219 - val_loss: 1.7717 - val_mse: 1.7387\n",
      "Epoch 119/200\n",
      "30/30 - 0s - 3ms/step - loss: 4.0403 - mse: 3.9926 - val_loss: 1.7751 - val_mse: 1.7422\n",
      "Epoch 120/200\n",
      "30/30 - 0s - 3ms/step - loss: 3.4872 - mse: 3.4921 - val_loss: 1.7574 - val_mse: 1.7251\n",
      "Epoch 121/200\n",
      "30/30 - 0s - 3ms/step - loss: 3.6220 - mse: 3.6452 - val_loss: 1.7542 - val_mse: 1.7221\n",
      "Epoch 122/200\n",
      "30/30 - 0s - 3ms/step - loss: 3.7816 - mse: 3.8005 - val_loss: 1.7089 - val_mse: 1.6781\n",
      "Epoch 123/200\n",
      "30/30 - 0s - 3ms/step - loss: 3.4566 - mse: 3.4664 - val_loss: 1.6803 - val_mse: 1.6503\n",
      "Epoch 124/200\n",
      "30/30 - 0s - 3ms/step - loss: 3.5892 - mse: 3.6196 - val_loss: 1.6889 - val_mse: 1.6587\n",
      "Epoch 125/200\n",
      "30/30 - 0s - 3ms/step - loss: 3.5145 - mse: 3.5425 - val_loss: 1.7039 - val_mse: 1.6731\n",
      "Epoch 126/200\n",
      "30/30 - 0s - 3ms/step - loss: 3.6174 - mse: 3.6128 - val_loss: 1.7007 - val_mse: 1.6700\n",
      "Epoch 127/200\n",
      "30/30 - 0s - 3ms/step - loss: 3.6889 - mse: 3.7055 - val_loss: 1.7057 - val_mse: 1.6749\n",
      "Epoch 128/200\n",
      "30/30 - 0s - 3ms/step - loss: 3.4142 - mse: 3.3663 - val_loss: 1.7042 - val_mse: 1.6735\n",
      "Epoch 129/200\n",
      "30/30 - 0s - 3ms/step - loss: 3.5754 - mse: 3.5970 - val_loss: 1.6944 - val_mse: 1.6638\n",
      "Epoch 130/200\n",
      "30/30 - 0s - 3ms/step - loss: 3.5243 - mse: 3.5467 - val_loss: 1.7136 - val_mse: 1.6824\n",
      "Epoch 131/200\n",
      "30/30 - 0s - 3ms/step - loss: 3.4313 - mse: 3.3988 - val_loss: 1.6862 - val_mse: 1.6554\n",
      "Epoch 132/200\n",
      "30/30 - 0s - 3ms/step - loss: 3.5006 - mse: 3.5080 - val_loss: 1.6870 - val_mse: 1.6562\n",
      "Epoch 133/200\n",
      "30/30 - 0s - 3ms/step - loss: 3.4582 - mse: 3.4214 - val_loss: 1.7045 - val_mse: 1.6731\n",
      "Epoch 134/200\n",
      "30/30 - 0s - 3ms/step - loss: 3.5449 - mse: 3.5657 - val_loss: 1.6880 - val_mse: 1.6570\n",
      "Epoch 135/200\n",
      "30/30 - 0s - 3ms/step - loss: 3.5353 - mse: 3.5277 - val_loss: 1.6921 - val_mse: 1.6609\n",
      "Epoch 136/200\n",
      "30/30 - 0s - 3ms/step - loss: 3.4672 - mse: 3.4549 - val_loss: 1.7074 - val_mse: 1.6756\n",
      "Epoch 137/200\n",
      "30/30 - 0s - 3ms/step - loss: 3.5439 - mse: 3.5420 - val_loss: 1.7138 - val_mse: 1.6817\n",
      "Epoch 138/200\n",
      "30/30 - 0s - 3ms/step - loss: 3.5305 - mse: 3.5247 - val_loss: 1.7274 - val_mse: 1.6947\n",
      "Epoch 139/200\n",
      "30/30 - 0s - 3ms/step - loss: 3.4922 - mse: 3.4527 - val_loss: 1.6861 - val_mse: 1.6545\n",
      "Epoch 140/200\n",
      "30/30 - 0s - 3ms/step - loss: 3.3444 - mse: 3.3684 - val_loss: 1.6819 - val_mse: 1.6504\n",
      "Epoch 141/200\n",
      "30/30 - 0s - 3ms/step - loss: 3.3782 - mse: 3.3874 - val_loss: 1.6875 - val_mse: 1.6557\n",
      "Epoch 142/200\n",
      "30/30 - 0s - 3ms/step - loss: 3.1698 - mse: 3.1715 - val_loss: 1.6935 - val_mse: 1.6615\n",
      "Epoch 143/200\n",
      "30/30 - 0s - 3ms/step - loss: 3.4497 - mse: 3.4701 - val_loss: 1.6529 - val_mse: 1.6221\n",
      "Epoch 144/200\n",
      "30/30 - 0s - 3ms/step - loss: 3.4349 - mse: 3.4509 - val_loss: 1.6215 - val_mse: 1.5916\n",
      "Epoch 145/200\n",
      "30/30 - 0s - 3ms/step - loss: 3.1620 - mse: 3.1858 - val_loss: 1.6613 - val_mse: 1.6303\n",
      "Epoch 146/200\n",
      "30/30 - 0s - 3ms/step - loss: 3.4707 - mse: 3.4638 - val_loss: 1.6536 - val_mse: 1.6229\n",
      "Epoch 147/200\n",
      "30/30 - 0s - 3ms/step - loss: 3.3120 - mse: 3.2957 - val_loss: 1.6070 - val_mse: 1.5777\n",
      "Epoch 148/200\n",
      "30/30 - 0s - 3ms/step - loss: 3.3797 - mse: 3.3638 - val_loss: 1.6477 - val_mse: 1.6171\n",
      "Epoch 149/200\n",
      "30/30 - 0s - 3ms/step - loss: 3.2293 - mse: 3.2276 - val_loss: 1.6768 - val_mse: 1.6453\n",
      "Epoch 150/200\n",
      "30/30 - 0s - 3ms/step - loss: 3.3874 - mse: 3.4090 - val_loss: 1.6565 - val_mse: 1.6255\n",
      "Epoch 151/200\n",
      "30/30 - 0s - 3ms/step - loss: 3.1468 - mse: 3.1418 - val_loss: 1.6516 - val_mse: 1.6208\n",
      "Epoch 152/200\n",
      "30/30 - 0s - 3ms/step - loss: 3.1650 - mse: 3.1867 - val_loss: 1.6469 - val_mse: 1.6162\n",
      "Epoch 153/200\n",
      "30/30 - 0s - 3ms/step - loss: 3.4167 - mse: 3.3870 - val_loss: 1.6369 - val_mse: 1.6064\n",
      "Epoch 154/200\n",
      "30/30 - 0s - 4ms/step - loss: 3.3325 - mse: 3.3359 - val_loss: 1.6093 - val_mse: 1.5795\n",
      "Epoch 155/200\n",
      "30/30 - 0s - 3ms/step - loss: 3.3421 - mse: 3.2626 - val_loss: 1.5778 - val_mse: 1.5489\n",
      "Epoch 156/200\n",
      "30/30 - 0s - 3ms/step - loss: 3.0072 - mse: 3.0081 - val_loss: 1.5900 - val_mse: 1.5609\n",
      "Epoch 157/200\n",
      "30/30 - 0s - 3ms/step - loss: 3.3124 - mse: 3.2930 - val_loss: 1.6378 - val_mse: 1.6072\n",
      "Epoch 158/200\n",
      "30/30 - 0s - 3ms/step - loss: 3.1037 - mse: 3.0956 - val_loss: 1.6174 - val_mse: 1.5873\n",
      "Epoch 159/200\n",
      "30/30 - 0s - 3ms/step - loss: 3.2699 - mse: 3.2563 - val_loss: 1.6305 - val_mse: 1.5999\n",
      "Epoch 160/200\n",
      "30/30 - 0s - 3ms/step - loss: 3.3594 - mse: 3.4007 - val_loss: 1.6210 - val_mse: 1.5907\n",
      "Epoch 161/200\n",
      "30/30 - 0s - 3ms/step - loss: 3.1859 - mse: 3.1623 - val_loss: 1.6068 - val_mse: 1.5767\n",
      "Epoch 162/200\n",
      "30/30 - 0s - 3ms/step - loss: 3.3091 - mse: 3.2812 - val_loss: 1.5678 - val_mse: 1.5389\n",
      "Epoch 163/200\n",
      "30/30 - 0s - 3ms/step - loss: 3.1311 - mse: 3.1537 - val_loss: 1.5952 - val_mse: 1.5653\n",
      "Epoch 164/200\n",
      "30/30 - 0s - 3ms/step - loss: 3.2191 - mse: 3.2239 - val_loss: 1.6225 - val_mse: 1.5920\n",
      "Epoch 165/200\n",
      "30/30 - 0s - 3ms/step - loss: 3.3009 - mse: 3.3085 - val_loss: 1.6166 - val_mse: 1.5862\n",
      "Epoch 166/200\n",
      "30/30 - 0s - 3ms/step - loss: 3.2576 - mse: 3.2495 - val_loss: 1.5572 - val_mse: 1.5285\n",
      "Epoch 167/200\n",
      "30/30 - 0s - 3ms/step - loss: 3.3875 - mse: 3.4143 - val_loss: 1.5662 - val_mse: 1.5373\n",
      "Epoch 168/200\n",
      "30/30 - 0s - 3ms/step - loss: 3.0906 - mse: 3.0408 - val_loss: 1.6069 - val_mse: 1.5765\n",
      "Epoch 169/200\n",
      "30/30 - 0s - 3ms/step - loss: 2.9694 - mse: 2.9557 - val_loss: 1.5455 - val_mse: 1.5169\n",
      "Epoch 170/200\n",
      "30/30 - 0s - 3ms/step - loss: 3.2442 - mse: 3.2517 - val_loss: 1.5348 - val_mse: 1.5062\n",
      "Epoch 171/200\n",
      "30/30 - 0s - 3ms/step - loss: 3.2484 - mse: 3.2407 - val_loss: 1.5287 - val_mse: 1.5003\n",
      "Epoch 172/200\n",
      "30/30 - 0s - 3ms/step - loss: 3.1233 - mse: 3.0552 - val_loss: 1.5412 - val_mse: 1.5124\n",
      "Epoch 173/200\n",
      "30/30 - 0s - 3ms/step - loss: 2.9627 - mse: 2.9587 - val_loss: 1.5384 - val_mse: 1.5097\n",
      "Epoch 174/200\n",
      "30/30 - 0s - 3ms/step - loss: 3.1789 - mse: 3.1796 - val_loss: 1.5263 - val_mse: 1.4978\n",
      "Epoch 175/200\n",
      "30/30 - 0s - 3ms/step - loss: 3.1721 - mse: 3.1709 - val_loss: 1.5397 - val_mse: 1.5109\n",
      "Epoch 176/200\n",
      "30/30 - 0s - 3ms/step - loss: 2.9232 - mse: 2.9152 - val_loss: 1.5657 - val_mse: 1.5362\n",
      "Epoch 177/200\n",
      "30/30 - 0s - 3ms/step - loss: 3.0922 - mse: 3.0802 - val_loss: 1.5530 - val_mse: 1.5239\n",
      "Epoch 178/200\n",
      "30/30 - 0s - 3ms/step - loss: 3.0906 - mse: 3.0961 - val_loss: 1.5355 - val_mse: 1.5069\n",
      "Epoch 179/200\n",
      "30/30 - 0s - 3ms/step - loss: 3.1169 - mse: 3.1148 - val_loss: 1.5855 - val_mse: 1.5553\n",
      "Epoch 180/200\n",
      "30/30 - 0s - 3ms/step - loss: 2.9364 - mse: 2.9399 - val_loss: 1.5523 - val_mse: 1.5233\n",
      "Epoch 181/200\n",
      "30/30 - 0s - 3ms/step - loss: 2.9928 - mse: 3.0094 - val_loss: 1.5301 - val_mse: 1.5016\n",
      "Epoch 182/200\n",
      "30/30 - 0s - 3ms/step - loss: 3.0166 - mse: 2.9950 - val_loss: 1.4958 - val_mse: 1.4684\n",
      "Epoch 183/200\n",
      "30/30 - 0s - 3ms/step - loss: 3.0779 - mse: 3.0834 - val_loss: 1.4830 - val_mse: 1.4558\n",
      "Epoch 184/200\n",
      "30/30 - 0s - 3ms/step - loss: 3.0190 - mse: 3.0223 - val_loss: 1.5154 - val_mse: 1.4873\n",
      "Epoch 185/200\n",
      "30/30 - 0s - 3ms/step - loss: 3.0178 - mse: 3.0299 - val_loss: 1.5100 - val_mse: 1.4819\n",
      "Epoch 186/200\n",
      "30/30 - 0s - 3ms/step - loss: 3.0912 - mse: 3.0906 - val_loss: 1.5308 - val_mse: 1.5020\n",
      "Epoch 187/200\n",
      "30/30 - 0s - 3ms/step - loss: 2.8696 - mse: 2.8695 - val_loss: 1.5274 - val_mse: 1.4986\n",
      "Epoch 188/200\n",
      "30/30 - 0s - 3ms/step - loss: 2.8630 - mse: 2.8499 - val_loss: 1.5407 - val_mse: 1.5116\n",
      "Epoch 189/200\n",
      "30/30 - 0s - 3ms/step - loss: 2.9395 - mse: 2.9275 - val_loss: 1.5100 - val_mse: 1.4817\n",
      "Epoch 190/200\n",
      "30/30 - 0s - 3ms/step - loss: 2.8479 - mse: 2.8479 - val_loss: 1.5020 - val_mse: 1.4738\n",
      "Epoch 191/200\n",
      "30/30 - 0s - 3ms/step - loss: 2.8457 - mse: 2.8369 - val_loss: 1.4888 - val_mse: 1.4608\n",
      "Epoch 192/200\n",
      "30/30 - 0s - 3ms/step - loss: 3.0429 - mse: 3.0498 - val_loss: 1.4999 - val_mse: 1.4715\n",
      "Epoch 193/200\n",
      "30/30 - 0s - 3ms/step - loss: 2.8550 - mse: 2.8674 - val_loss: 1.4615 - val_mse: 1.4341\n",
      "Epoch 194/200\n",
      "30/30 - 0s - 3ms/step - loss: 2.7505 - mse: 2.7473 - val_loss: 1.4924 - val_mse: 1.4641\n",
      "Epoch 195/200\n",
      "30/30 - 0s - 3ms/step - loss: 2.9805 - mse: 2.9859 - val_loss: 1.4911 - val_mse: 1.4625\n",
      "Epoch 196/200\n",
      "30/30 - 0s - 3ms/step - loss: 3.0845 - mse: 3.0700 - val_loss: 1.4840 - val_mse: 1.4557\n",
      "Epoch 197/200\n",
      "30/30 - 0s - 3ms/step - loss: 2.8632 - mse: 2.8731 - val_loss: 1.4820 - val_mse: 1.4538\n",
      "Epoch 198/200\n",
      "30/30 - 0s - 3ms/step - loss: 2.9473 - mse: 2.9046 - val_loss: 1.5126 - val_mse: 1.4834\n",
      "Epoch 199/200\n",
      "30/30 - 0s - 3ms/step - loss: 2.7135 - mse: 2.7228 - val_loss: 1.4958 - val_mse: 1.4670\n",
      "Epoch 200/200\n",
      "30/30 - 0s - 3ms/step - loss: 2.9604 - mse: 2.9386 - val_loss: 1.4991 - val_mse: 1.4703\n",
      "Test loss:  1.6001876592636108\n",
      "Test accuracy:  1.627879023551941\n"
     ]
    }
   ],
   "source": [
    "model.compile(optimizer = tf.keras.optimizers.Adadelta(learning_rate=0.2),\n",
    "              loss = tf.keras.losses.MeanSquaredError(),\n",
    "              metrics = ['mse'])\n",
    "model.fit(\n",
    "    X_train_n,Y_train, \n",
    "    batch_size = 32,\n",
    "    epochs=200,\n",
    "    verbose = 2,\n",
    "    validation_data = (X_validation_n, Y_validation)\n",
    ")\n",
    "\n",
    "score = model.evaluate(X_test_n, Y_test, verbose = 0)\n",
    "print('Test loss: ', score[0])\n",
    "print('Test accuracy: ', score[1])"
   ]
  },
  {
   "cell_type": "code",
   "execution_count": 8,
   "id": "f9c446de",
   "metadata": {
    "execution": {
     "iopub.execute_input": "2025-02-11T03:37:03.594549Z",
     "iopub.status.busy": "2025-02-11T03:37:03.594150Z",
     "iopub.status.idle": "2025-02-11T03:37:03.617829Z",
     "shell.execute_reply": "2025-02-11T03:37:03.616696Z"
    },
    "papermill": {
     "duration": 0.052431,
     "end_time": "2025-02-11T03:37:03.620154",
     "exception": false,
     "start_time": "2025-02-11T03:37:03.567723",
     "status": "completed"
    },
    "tags": []
   },
   "outputs": [
    {
     "data": {
      "text/html": [
       "<pre style=\"white-space:pre;overflow-x:auto;line-height:normal;font-family:Menlo,'DejaVu Sans Mono',consolas,'Courier New',monospace\"><span style=\"font-weight: bold\">Model: \"sequential\"</span>\n",
       "</pre>\n"
      ],
      "text/plain": [
       "\u001b[1mModel: \"sequential\"\u001b[0m\n"
      ]
     },
     "metadata": {},
     "output_type": "display_data"
    },
    {
     "data": {
      "text/html": [
       "<pre style=\"white-space:pre;overflow-x:auto;line-height:normal;font-family:Menlo,'DejaVu Sans Mono',consolas,'Courier New',monospace\">┏━━━━━━━━━━━━━━━━━━━━━━━━━━━━━━━━━┳━━━━━━━━━━━━━━━━━━━━━━━━┳━━━━━━━━━━━━━━━┓\n",
       "┃<span style=\"font-weight: bold\"> Layer (type)                    </span>┃<span style=\"font-weight: bold\"> Output Shape           </span>┃<span style=\"font-weight: bold\">       Param # </span>┃\n",
       "┡━━━━━━━━━━━━━━━━━━━━━━━━━━━━━━━━━╇━━━━━━━━━━━━━━━━━━━━━━━━╇━━━━━━━━━━━━━━━┩\n",
       "│ layer1 (<span style=\"color: #0087ff; text-decoration-color: #0087ff\">Dense</span>)                  │ (<span style=\"color: #00d7ff; text-decoration-color: #00d7ff\">None</span>, <span style=\"color: #00af00; text-decoration-color: #00af00\">10</span>)             │           <span style=\"color: #00af00; text-decoration-color: #00af00\">100</span> │\n",
       "├─────────────────────────────────┼────────────────────────┼───────────────┤\n",
       "│ dropout (<span style=\"color: #0087ff; text-decoration-color: #0087ff\">Dropout</span>)               │ (<span style=\"color: #00d7ff; text-decoration-color: #00d7ff\">None</span>, <span style=\"color: #00af00; text-decoration-color: #00af00\">10</span>)             │             <span style=\"color: #00af00; text-decoration-color: #00af00\">0</span> │\n",
       "├─────────────────────────────────┼────────────────────────┼───────────────┤\n",
       "│ layer2 (<span style=\"color: #0087ff; text-decoration-color: #0087ff\">Dense</span>)                  │ (<span style=\"color: #00d7ff; text-decoration-color: #00d7ff\">None</span>, <span style=\"color: #00af00; text-decoration-color: #00af00\">9</span>)              │            <span style=\"color: #00af00; text-decoration-color: #00af00\">99</span> │\n",
       "├─────────────────────────────────┼────────────────────────┼───────────────┤\n",
       "│ dropout_1 (<span style=\"color: #0087ff; text-decoration-color: #0087ff\">Dropout</span>)             │ (<span style=\"color: #00d7ff; text-decoration-color: #00d7ff\">None</span>, <span style=\"color: #00af00; text-decoration-color: #00af00\">9</span>)              │             <span style=\"color: #00af00; text-decoration-color: #00af00\">0</span> │\n",
       "├─────────────────────────────────┼────────────────────────┼───────────────┤\n",
       "│ layer3 (<span style=\"color: #0087ff; text-decoration-color: #0087ff\">Dense</span>)                  │ (<span style=\"color: #00d7ff; text-decoration-color: #00d7ff\">None</span>, <span style=\"color: #00af00; text-decoration-color: #00af00\">4</span>)              │            <span style=\"color: #00af00; text-decoration-color: #00af00\">40</span> │\n",
       "└─────────────────────────────────┴────────────────────────┴───────────────┘\n",
       "</pre>\n"
      ],
      "text/plain": [
       "┏━━━━━━━━━━━━━━━━━━━━━━━━━━━━━━━━━┳━━━━━━━━━━━━━━━━━━━━━━━━┳━━━━━━━━━━━━━━━┓\n",
       "┃\u001b[1m \u001b[0m\u001b[1mLayer (type)                   \u001b[0m\u001b[1m \u001b[0m┃\u001b[1m \u001b[0m\u001b[1mOutput Shape          \u001b[0m\u001b[1m \u001b[0m┃\u001b[1m \u001b[0m\u001b[1m      Param #\u001b[0m\u001b[1m \u001b[0m┃\n",
       "┡━━━━━━━━━━━━━━━━━━━━━━━━━━━━━━━━━╇━━━━━━━━━━━━━━━━━━━━━━━━╇━━━━━━━━━━━━━━━┩\n",
       "│ layer1 (\u001b[38;5;33mDense\u001b[0m)                  │ (\u001b[38;5;45mNone\u001b[0m, \u001b[38;5;34m10\u001b[0m)             │           \u001b[38;5;34m100\u001b[0m │\n",
       "├─────────────────────────────────┼────────────────────────┼───────────────┤\n",
       "│ dropout (\u001b[38;5;33mDropout\u001b[0m)               │ (\u001b[38;5;45mNone\u001b[0m, \u001b[38;5;34m10\u001b[0m)             │             \u001b[38;5;34m0\u001b[0m │\n",
       "├─────────────────────────────────┼────────────────────────┼───────────────┤\n",
       "│ layer2 (\u001b[38;5;33mDense\u001b[0m)                  │ (\u001b[38;5;45mNone\u001b[0m, \u001b[38;5;34m9\u001b[0m)              │            \u001b[38;5;34m99\u001b[0m │\n",
       "├─────────────────────────────────┼────────────────────────┼───────────────┤\n",
       "│ dropout_1 (\u001b[38;5;33mDropout\u001b[0m)             │ (\u001b[38;5;45mNone\u001b[0m, \u001b[38;5;34m9\u001b[0m)              │             \u001b[38;5;34m0\u001b[0m │\n",
       "├─────────────────────────────────┼────────────────────────┼───────────────┤\n",
       "│ layer3 (\u001b[38;5;33mDense\u001b[0m)                  │ (\u001b[38;5;45mNone\u001b[0m, \u001b[38;5;34m4\u001b[0m)              │            \u001b[38;5;34m40\u001b[0m │\n",
       "└─────────────────────────────────┴────────────────────────┴───────────────┘\n"
      ]
     },
     "metadata": {},
     "output_type": "display_data"
    },
    {
     "data": {
      "text/html": [
       "<pre style=\"white-space:pre;overflow-x:auto;line-height:normal;font-family:Menlo,'DejaVu Sans Mono',consolas,'Courier New',monospace\"><span style=\"font-weight: bold\"> Total params: </span><span style=\"color: #00af00; text-decoration-color: #00af00\">719</span> (2.81 KB)\n",
       "</pre>\n"
      ],
      "text/plain": [
       "\u001b[1m Total params: \u001b[0m\u001b[38;5;34m719\u001b[0m (2.81 KB)\n"
      ]
     },
     "metadata": {},
     "output_type": "display_data"
    },
    {
     "data": {
      "text/html": [
       "<pre style=\"white-space:pre;overflow-x:auto;line-height:normal;font-family:Menlo,'DejaVu Sans Mono',consolas,'Courier New',monospace\"><span style=\"font-weight: bold\"> Trainable params: </span><span style=\"color: #00af00; text-decoration-color: #00af00\">239</span> (956.00 B)\n",
       "</pre>\n"
      ],
      "text/plain": [
       "\u001b[1m Trainable params: \u001b[0m\u001b[38;5;34m239\u001b[0m (956.00 B)\n"
      ]
     },
     "metadata": {},
     "output_type": "display_data"
    },
    {
     "data": {
      "text/html": [
       "<pre style=\"white-space:pre;overflow-x:auto;line-height:normal;font-family:Menlo,'DejaVu Sans Mono',consolas,'Courier New',monospace\"><span style=\"font-weight: bold\"> Non-trainable params: </span><span style=\"color: #00af00; text-decoration-color: #00af00\">0</span> (0.00 B)\n",
       "</pre>\n"
      ],
      "text/plain": [
       "\u001b[1m Non-trainable params: \u001b[0m\u001b[38;5;34m0\u001b[0m (0.00 B)\n"
      ]
     },
     "metadata": {},
     "output_type": "display_data"
    },
    {
     "data": {
      "text/html": [
       "<pre style=\"white-space:pre;overflow-x:auto;line-height:normal;font-family:Menlo,'DejaVu Sans Mono',consolas,'Courier New',monospace\"><span style=\"font-weight: bold\"> Optimizer params: </span><span style=\"color: #00af00; text-decoration-color: #00af00\">480</span> (1.88 KB)\n",
       "</pre>\n"
      ],
      "text/plain": [
       "\u001b[1m Optimizer params: \u001b[0m\u001b[38;5;34m480\u001b[0m (1.88 KB)\n"
      ]
     },
     "metadata": {},
     "output_type": "display_data"
    }
   ],
   "source": [
    "model.summary()"
   ]
  },
  {
   "cell_type": "code",
   "execution_count": 9,
   "id": "59aacd04",
   "metadata": {
    "execution": {
     "iopub.execute_input": "2025-02-11T03:37:03.671959Z",
     "iopub.status.busy": "2025-02-11T03:37:03.671567Z",
     "iopub.status.idle": "2025-02-11T03:37:03.780261Z",
     "shell.execute_reply": "2025-02-11T03:37:03.779336Z"
    },
    "papermill": {
     "duration": 0.137233,
     "end_time": "2025-02-11T03:37:03.782707",
     "exception": false,
     "start_time": "2025-02-11T03:37:03.645474",
     "status": "completed"
    },
    "tags": []
   },
   "outputs": [],
   "source": [
    "\n",
    "model.save('my_model.h5')  # creates a HDF5 file 'my_model.h5'\n",
    "del model  # deletes the existing model\n",
    "\n",
    "# returns a compiled model\n",
    "# identical to the previous one\n",
    "model = load_model('my_model.h5')"
   ]
  },
  {
   "cell_type": "code",
   "execution_count": 10,
   "id": "757ca26b",
   "metadata": {
    "execution": {
     "iopub.execute_input": "2025-02-11T03:37:03.836200Z",
     "iopub.status.busy": "2025-02-11T03:37:03.835180Z",
     "iopub.status.idle": "2025-02-11T03:37:03.845149Z",
     "shell.execute_reply": "2025-02-11T03:37:03.843932Z"
    },
    "papermill": {
     "duration": 0.040076,
     "end_time": "2025-02-11T03:37:03.848525",
     "exception": false,
     "start_time": "2025-02-11T03:37:03.808449",
     "status": "completed"
    },
    "tags": []
   },
   "outputs": [
    {
     "name": "stdout",
     "output_type": "stream",
     "text": [
      "W1:\n",
      " [[ 0.06997798 -0.6110222  -0.02392922  0.12507679  0.19376437 -0.18130724\n",
      "  -0.24211466  0.268177   -0.21327977 -0.1527222 ]\n",
      " [-0.0527575  -0.18274651 -0.5079133  -0.15340056  0.36335826 -0.08456361\n",
      "  -0.11728892  0.2894732   0.1488922  -0.40917137]\n",
      " [-0.27853858 -0.10213945  0.18071923 -0.12610859  0.37012038 -0.19470131\n",
      "   0.15132348 -0.08933128  0.38646412  0.01917653]\n",
      " [-0.32322437 -0.19393101  0.16090964  0.03876024 -0.43435532  0.1390281\n",
      "  -0.56335294  0.36398795 -0.28083053  0.15063578]\n",
      " [ 0.04205262 -0.24442622  0.32425737 -0.4385084   0.1688692   0.5828472\n",
      "  -0.08631625  0.4669217  -0.01843369 -0.13679107]\n",
      " [-0.65580815  0.5320935  -0.5854703   0.0769937  -0.6648229  -0.6524198\n",
      "   0.11447129  0.36983785  0.36760154  0.14844222]\n",
      " [ 0.26915288 -0.07695299 -0.32748398  0.18224382 -0.39043558 -0.00823911\n",
      "   0.31392768 -0.10726472 -0.01456676  0.1513905 ]\n",
      " [-0.27119616 -0.5731317   0.03661397  0.03668957 -0.2103884  -0.5722925\n",
      "  -0.01710851 -0.444677    0.08295658  0.37286362]\n",
      " [ 0.3534575  -0.164886   -0.5871249   0.18732426  0.08067908 -0.67972946\n",
      "  -0.02789709 -0.26369712  0.04585737 -0.10341994]] \n",
      "b1: [ 0.29526597  0.17220461  0.1768405   0.15719806  0.3532929   0.19246066\n",
      " -0.05919096  0.3536347  -0.17797212 -0.2623626 ]\n",
      "W2:\n",
      " [[-0.1720059   0.34295654  0.08191766 -0.3412883   0.2613267  -0.39172918\n",
      "   0.5729204   0.33347794 -0.08386642]\n",
      " [-0.4546085   0.14747074 -0.09630252  0.3739315  -0.18349487 -0.01736777\n",
      "   0.07331479 -0.1501672   0.40433538]\n",
      " [-0.05809268  0.6079699   0.741158   -0.23883152  0.14277084 -0.32946464\n",
      "   0.42196482 -0.2164158   0.14592284]\n",
      " [ 0.18872608 -0.11728325  0.38150656  0.32249156 -0.33585477 -0.2915732\n",
      "  -0.16499351 -0.2220753  -0.23648858]\n",
      " [-0.44328463  0.23250222 -0.33269134  0.04321111  0.23254442 -0.2645143\n",
      "  -0.11295588  0.5405831   0.29513133]\n",
      " [-0.24574941 -0.2593586  -0.3994695   0.26035777  0.04994301 -0.04878685\n",
      "   0.21648888  0.5062094   0.56808424]\n",
      " [-0.17266986 -0.2869668  -0.05063313 -0.19643262  0.03123121  0.15147352\n",
      "  -0.0509868   0.24633268  0.29258004]\n",
      " [-0.33161244 -0.06374656  0.05280393  0.3868251  -0.2551497   0.1099354\n",
      "   0.06979068  0.4308628   0.56904453]\n",
      " [ 0.15069138 -0.10666426 -0.10993499 -0.15084557  0.2421527  -0.5488898\n",
      "  -0.21064287 -0.48144242  0.18194799]\n",
      " [-0.07302365 -0.12027171 -0.45526087 -0.23081215 -0.11838425 -0.33627376\n",
      "  -0.24285817 -0.1863804   0.07643912]] \n",
      "b2: [-0.14196284  0.69709927  0.5376733   0.6087476   0.6449539  -0.19910376\n",
      "  0.6775746   0.73746926  0.67939276]\n"
     ]
    }
   ],
   "source": [
    "W1, b1 = model.get_layer(\"layer1\").get_weights()\n",
    "W2, b2 = model.get_layer(\"layer2\").get_weights()\n",
    "print(\"W1:\\n\", W1, \"\\nb1:\", b1)\n",
    "print(\"W2:\\n\", W2, \"\\nb2:\", b2)"
   ]
  },
  {
   "cell_type": "code",
   "execution_count": 11,
   "id": "44d89efe",
   "metadata": {
    "execution": {
     "iopub.execute_input": "2025-02-11T03:37:03.902297Z",
     "iopub.status.busy": "2025-02-11T03:37:03.901856Z",
     "iopub.status.idle": "2025-02-11T03:37:03.908898Z",
     "shell.execute_reply": "2025-02-11T03:37:03.907812Z"
    },
    "papermill": {
     "duration": 0.036146,
     "end_time": "2025-02-11T03:37:03.910927",
     "exception": false,
     "start_time": "2025-02-11T03:37:03.874781",
     "status": "completed"
    },
    "tags": []
   },
   "outputs": [],
   "source": [
    "def predict_with_model(df, row_name, model):\n",
    "    # Assuming df is your pandas DataFrame\n",
    "    # Extract the specified row\n",
    "    selected_row = np.array(df[df['MOLD'] == row_name])\n",
    "    # Extract columns 6-14\n",
    "    features = selected_row[0][6:15]\n",
    "\n",
    "  # Create a Keras normalization layer\n",
    "    normalization_layer = tf.keras.layers.Normalization(axis=-1)\n",
    "    normalization_layer.adapt(X_test)  # Compute mean and variance\n",
    "\n",
    "    # Normalize the features\n",
    "    normalized_features = normalization_layer(features)\n",
    "    print(normalized_features)\n",
    "    # Predict using the model\n",
    "    predicted_values = np.round(model.predict(normalized_features))\n",
    "\n",
    "    # Print results\n",
    "    print(f\"Row Name: {row_name}\")\n",
    "    print(f\"Predicted Values: {predicted_values}\")\n",
    "    print(f\"Actual Values: {selected_row[0][2:6]}\")  # Assuming 'target' is the actual value column\n",
    "    "
   ]
  },
  {
   "cell_type": "code",
   "execution_count": 12,
   "id": "59a9a65c",
   "metadata": {
    "execution": {
     "iopub.execute_input": "2025-02-11T03:37:03.962340Z",
     "iopub.status.busy": "2025-02-11T03:37:03.961949Z",
     "iopub.status.idle": "2025-02-11T03:37:04.091341Z",
     "shell.execute_reply": "2025-02-11T03:37:04.090067Z"
    },
    "papermill": {
     "duration": 0.157291,
     "end_time": "2025-02-11T03:37:04.093509",
     "exception": false,
     "start_time": "2025-02-11T03:37:03.936218",
     "status": "completed"
    },
    "tags": []
   },
   "outputs": [
    {
     "name": "stdout",
     "output_type": "stream",
     "text": [
      "tf.Tensor(\n",
      "[[ 0.97144645 -0.5650229  -0.58445394 -0.38610178  1.2035401  -1.2219759\n",
      "  -0.31718394 -0.9521939  -0.36689967]], shape=(1, 9), dtype=float32)\n",
      "\u001b[1m1/1\u001b[0m \u001b[32m━━━━━━━━━━━━━━━━━━━━\u001b[0m\u001b[37m\u001b[0m \u001b[1m0s\u001b[0m 55ms/step\n",
      "Row Name: Force\n",
      "Predicted Values: [[10.  5.  0.  2.]]\n",
      "Actual Values: [12.0 5.0 0.0 3.0]\n"
     ]
    }
   ],
   "source": [
    "predict_with_model(df,'Force',model)"
   ]
  }
 ],
 "metadata": {
  "kaggle": {
   "accelerator": "none",
   "dataSources": [
    {
     "datasetId": 3397336,
     "sourceId": 5915162,
     "sourceType": "datasetVersion"
    }
   ],
   "dockerImageVersionId": 30664,
   "isGpuEnabled": false,
   "isInternetEnabled": true,
   "language": "python",
   "sourceType": "notebook"
  },
  "kernelspec": {
   "display_name": "Python 3",
   "language": "python",
   "name": "python3"
  },
  "language_info": {
   "codemirror_mode": {
    "name": "ipython",
    "version": 3
   },
   "file_extension": ".py",
   "mimetype": "text/x-python",
   "name": "python",
   "nbconvert_exporter": "python",
   "pygments_lexer": "ipython3",
   "version": "3.10.13"
  },
  "papermill": {
   "default_parameters": {},
   "duration": 43.535419,
   "end_time": "2025-02-11T03:37:06.675427",
   "environment_variables": {},
   "exception": null,
   "input_path": "__notebook__.ipynb",
   "output_path": "__notebook__.ipynb",
   "parameters": {},
   "start_time": "2025-02-11T03:36:23.140008",
   "version": "2.5.0"
  }
 },
 "nbformat": 4,
 "nbformat_minor": 5
}
